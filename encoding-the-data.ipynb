{
 "cells": [
  {
   "cell_type": "code",
   "execution_count": 1,
   "id": "97440e06",
   "metadata": {
    "_cell_guid": "b1076dfc-b9ad-4769-8c92-a6c4dae69d19",
    "_uuid": "8f2839f25d086af736a60e9eeb907d3b93b6e0e5",
    "execution": {
     "iopub.execute_input": "2021-09-28T03:53:26.385026Z",
     "iopub.status.busy": "2021-09-28T03:53:26.383806Z",
     "iopub.status.idle": "2021-09-28T03:53:26.400765Z",
     "shell.execute_reply": "2021-09-28T03:53:26.399757Z",
     "shell.execute_reply.started": "2021-09-28T03:47:31.046157Z"
    },
    "papermill": {
     "duration": 0.039334,
     "end_time": "2021-09-28T03:53:26.401001",
     "exception": false,
     "start_time": "2021-09-28T03:53:26.361667",
     "status": "completed"
    },
    "tags": []
   },
   "outputs": [
    {
     "name": "stdout",
     "output_type": "stream",
     "text": [
      "/kaggle/input/dry-beans-classification-iti-ai-pro-intake01/sample_submission.csv\n",
      "/kaggle/input/dry-beans-classification-iti-ai-pro-intake01/train.csv\n",
      "/kaggle/input/dry-beans-classification-iti-ai-pro-intake01/test.csv\n"
     ]
    }
   ],
   "source": [
    "import numpy as np\n",
    "import pandas as pd\n",
    "import os\n",
    "for dirname, _, filenames in os.walk('/kaggle/input'):\n",
    "    for filename in filenames:\n",
    "        print(os.path.join(dirname, filename))"
   ]
  },
  {
   "cell_type": "code",
   "execution_count": 2,
   "id": "26a30b38",
   "metadata": {
    "execution": {
     "iopub.execute_input": "2021-09-28T03:53:26.441355Z",
     "iopub.status.busy": "2021-09-28T03:53:26.440539Z",
     "iopub.status.idle": "2021-09-28T03:53:27.448593Z",
     "shell.execute_reply": "2021-09-28T03:53:27.447839Z",
     "shell.execute_reply.started": "2021-09-28T03:47:31.061140Z"
    },
    "papermill": {
     "duration": 1.02955,
     "end_time": "2021-09-28T03:53:27.448738",
     "exception": false,
     "start_time": "2021-09-28T03:53:26.419188",
     "status": "completed"
    },
    "tags": []
   },
   "outputs": [],
   "source": [
    "import matplotlib.pyplot as plt\n",
    "import seaborn as sns"
   ]
  },
  {
   "cell_type": "code",
   "execution_count": 3,
   "id": "444786aa",
   "metadata": {
    "execution": {
     "iopub.execute_input": "2021-09-28T03:53:27.487647Z",
     "iopub.status.busy": "2021-09-28T03:53:27.486900Z",
     "iopub.status.idle": "2021-09-28T03:53:27.585943Z",
     "shell.execute_reply": "2021-09-28T03:53:27.585284Z",
     "shell.execute_reply.started": "2021-09-28T03:47:31.067844Z"
    },
    "papermill": {
     "duration": 0.120485,
     "end_time": "2021-09-28T03:53:27.586121",
     "exception": false,
     "start_time": "2021-09-28T03:53:27.465636",
     "status": "completed"
    },
    "tags": []
   },
   "outputs": [],
   "source": [
    "train_df = pd.read_csv('/kaggle/input/dry-beans-classification-iti-ai-pro-intake01/train.csv')"
   ]
  },
  {
   "cell_type": "code",
   "execution_count": 4,
   "id": "10aad2a6",
   "metadata": {
    "execution": {
     "iopub.execute_input": "2021-09-28T03:53:27.626228Z",
     "iopub.status.busy": "2021-09-28T03:53:27.625286Z",
     "iopub.status.idle": "2021-09-28T03:53:27.628926Z",
     "shell.execute_reply": "2021-09-28T03:53:27.628272Z",
     "shell.execute_reply.started": "2021-09-28T03:47:31.127107Z"
    },
    "papermill": {
     "duration": 0.026048,
     "end_time": "2021-09-28T03:53:27.629098",
     "exception": false,
     "start_time": "2021-09-28T03:53:27.603050",
     "status": "completed"
    },
    "tags": []
   },
   "outputs": [],
   "source": [
    "labels = ['xlarge', 'large', 'medium', 'small', 'xsmall']\n",
    "def categorize_data(df, col):\n",
    "    col_name = col + '_categories'\n",
    "    df[col_name] = pd.cut(train_df[col], bins=5, labels=labels)\n",
    "    return df"
   ]
  },
  {
   "cell_type": "code",
   "execution_count": 5,
   "id": "3d5594f5",
   "metadata": {
    "execution": {
     "iopub.execute_input": "2021-09-28T03:53:27.672528Z",
     "iopub.status.busy": "2021-09-28T03:53:27.671815Z",
     "iopub.status.idle": "2021-09-28T03:53:27.675088Z",
     "shell.execute_reply": "2021-09-28T03:53:27.674437Z",
     "shell.execute_reply.started": "2021-09-28T03:47:31.135367Z"
    },
    "papermill": {
     "duration": 0.028788,
     "end_time": "2021-09-28T03:53:27.675243",
     "exception": false,
     "start_time": "2021-09-28T03:53:27.646455",
     "status": "completed"
    },
    "tags": []
   },
   "outputs": [],
   "source": [
    "y = train_df.y"
   ]
  },
  {
   "cell_type": "code",
   "execution_count": 6,
   "id": "6d712b29",
   "metadata": {
    "execution": {
     "iopub.execute_input": "2021-09-28T03:53:27.718756Z",
     "iopub.status.busy": "2021-09-28T03:53:27.717960Z",
     "iopub.status.idle": "2021-09-28T03:53:27.724010Z",
     "shell.execute_reply": "2021-09-28T03:53:27.723364Z",
     "shell.execute_reply.started": "2021-09-28T03:47:31.149063Z"
    },
    "papermill": {
     "duration": 0.031906,
     "end_time": "2021-09-28T03:53:27.724180",
     "exception": false,
     "start_time": "2021-09-28T03:53:27.692274",
     "status": "completed"
    },
    "tags": []
   },
   "outputs": [],
   "source": [
    "train_df.drop(columns=['ID', 'y'], inplace=True)"
   ]
  },
  {
   "cell_type": "code",
   "execution_count": 7,
   "id": "a56bd7eb",
   "metadata": {
    "execution": {
     "iopub.execute_input": "2021-09-28T03:53:27.769897Z",
     "iopub.status.busy": "2021-09-28T03:53:27.765191Z",
     "iopub.status.idle": "2021-09-28T03:53:27.807859Z",
     "shell.execute_reply": "2021-09-28T03:53:27.807213Z",
     "shell.execute_reply.started": "2021-09-28T03:47:31.162758Z"
    },
    "papermill": {
     "duration": 0.066405,
     "end_time": "2021-09-28T03:53:27.808020",
     "exception": false,
     "start_time": "2021-09-28T03:53:27.741615",
     "status": "completed"
    },
    "tags": []
   },
   "outputs": [],
   "source": [
    "for col in train_df.columns:\n",
    "    train_df = categorize_data(train_df, col)"
   ]
  },
  {
   "cell_type": "code",
   "execution_count": 8,
   "id": "9cb7daca",
   "metadata": {
    "execution": {
     "iopub.execute_input": "2021-09-28T03:53:27.846430Z",
     "iopub.status.busy": "2021-09-28T03:53:27.845722Z",
     "iopub.status.idle": "2021-09-28T03:53:27.852810Z",
     "shell.execute_reply": "2021-09-28T03:53:27.853313Z",
     "shell.execute_reply.started": "2021-09-28T03:47:31.207787Z"
    },
    "papermill": {
     "duration": 0.028185,
     "end_time": "2021-09-28T03:53:27.853501",
     "exception": false,
     "start_time": "2021-09-28T03:53:27.825316",
     "status": "completed"
    },
    "tags": []
   },
   "outputs": [
    {
     "data": {
      "text/plain": [
       "Index(['Area', 'Perimeter', 'MajorAxisLength', 'MinorAxisLength',\n",
       "       'AspectRation', 'Eccentricity', 'ConvexArea', 'EquivDiameter', 'Extent',\n",
       "       'Solidity', 'roundness', 'Compactness', 'ShapeFactor1', 'ShapeFactor2',\n",
       "       'ShapeFactor3', 'ShapeFactor4', 'Area_categories',\n",
       "       'Perimeter_categories', 'MajorAxisLength_categories',\n",
       "       'MinorAxisLength_categories', 'AspectRation_categories',\n",
       "       'Eccentricity_categories', 'ConvexArea_categories',\n",
       "       'EquivDiameter_categories', 'Extent_categories', 'Solidity_categories',\n",
       "       'roundness_categories', 'Compactness_categories',\n",
       "       'ShapeFactor1_categories', 'ShapeFactor2_categories',\n",
       "       'ShapeFactor3_categories', 'ShapeFactor4_categories'],\n",
       "      dtype='object')"
      ]
     },
     "execution_count": 8,
     "metadata": {},
     "output_type": "execute_result"
    }
   ],
   "source": [
    "train_df.columns"
   ]
  },
  {
   "cell_type": "code",
   "execution_count": 9,
   "id": "c218afa7",
   "metadata": {
    "execution": {
     "iopub.execute_input": "2021-09-28T03:53:27.894449Z",
     "iopub.status.busy": "2021-09-28T03:53:27.893759Z",
     "iopub.status.idle": "2021-09-28T03:53:27.918651Z",
     "shell.execute_reply": "2021-09-28T03:53:27.919183Z",
     "shell.execute_reply.started": "2021-09-28T03:47:31.215220Z"
    },
    "papermill": {
     "duration": 0.04836,
     "end_time": "2021-09-28T03:53:27.919396",
     "exception": false,
     "start_time": "2021-09-28T03:53:27.871036",
     "status": "completed"
    },
    "tags": []
   },
   "outputs": [
    {
     "name": "stdout",
     "output_type": "stream",
     "text": [
      "<class 'pandas.core.frame.DataFrame'>\n",
      "RangeIndex: 10834 entries, 0 to 10833\n",
      "Data columns (total 32 columns):\n",
      " #   Column                      Non-Null Count  Dtype   \n",
      "---  ------                      --------------  -----   \n",
      " 0   Area                        10834 non-null  int64   \n",
      " 1   Perimeter                   10834 non-null  float64 \n",
      " 2   MajorAxisLength             10834 non-null  float64 \n",
      " 3   MinorAxisLength             10834 non-null  float64 \n",
      " 4   AspectRation                10834 non-null  float64 \n",
      " 5   Eccentricity                10834 non-null  float64 \n",
      " 6   ConvexArea                  10834 non-null  int64   \n",
      " 7   EquivDiameter               10834 non-null  float64 \n",
      " 8   Extent                      10834 non-null  float64 \n",
      " 9   Solidity                    10834 non-null  float64 \n",
      " 10  roundness                   10834 non-null  float64 \n",
      " 11  Compactness                 10834 non-null  float64 \n",
      " 12  ShapeFactor1                10834 non-null  float64 \n",
      " 13  ShapeFactor2                10834 non-null  float64 \n",
      " 14  ShapeFactor3                10834 non-null  float64 \n",
      " 15  ShapeFactor4                10834 non-null  float64 \n",
      " 16  Area_categories             10834 non-null  category\n",
      " 17  Perimeter_categories        10834 non-null  category\n",
      " 18  MajorAxisLength_categories  10834 non-null  category\n",
      " 19  MinorAxisLength_categories  10834 non-null  category\n",
      " 20  AspectRation_categories     10834 non-null  category\n",
      " 21  Eccentricity_categories     10834 non-null  category\n",
      " 22  ConvexArea_categories       10834 non-null  category\n",
      " 23  EquivDiameter_categories    10834 non-null  category\n",
      " 24  Extent_categories           10834 non-null  category\n",
      " 25  Solidity_categories         10834 non-null  category\n",
      " 26  roundness_categories        10834 non-null  category\n",
      " 27  Compactness_categories      10834 non-null  category\n",
      " 28  ShapeFactor1_categories     10834 non-null  category\n",
      " 29  ShapeFactor2_categories     10834 non-null  category\n",
      " 30  ShapeFactor3_categories     10834 non-null  category\n",
      " 31  ShapeFactor4_categories     10834 non-null  category\n",
      "dtypes: category(16), float64(14), int64(2)\n",
      "memory usage: 1.5 MB\n"
     ]
    }
   ],
   "source": [
    "train_df.info()"
   ]
  },
  {
   "cell_type": "code",
   "execution_count": 10,
   "id": "2bae6665",
   "metadata": {
    "execution": {
     "iopub.execute_input": "2021-09-28T03:53:27.962641Z",
     "iopub.status.busy": "2021-09-28T03:53:27.961930Z",
     "iopub.status.idle": "2021-09-28T03:53:27.965123Z",
     "shell.execute_reply": "2021-09-28T03:53:27.964626Z",
     "shell.execute_reply.started": "2021-09-28T03:47:31.255220Z"
    },
    "papermill": {
     "duration": 0.026745,
     "end_time": "2021-09-28T03:53:27.965265",
     "exception": false,
     "start_time": "2021-09-28T03:53:27.938520",
     "status": "completed"
    },
    "tags": []
   },
   "outputs": [],
   "source": [
    "categorical_data = [x for x in train_df.columns if x.__contains__('categories')]"
   ]
  },
  {
   "cell_type": "code",
   "execution_count": 11,
   "id": "12b1ea78",
   "metadata": {
    "execution": {
     "iopub.execute_input": "2021-09-28T03:53:28.008610Z",
     "iopub.status.busy": "2021-09-28T03:53:28.007706Z",
     "iopub.status.idle": "2021-09-28T03:53:28.024230Z",
     "shell.execute_reply": "2021-09-28T03:53:28.023625Z",
     "shell.execute_reply.started": "2021-09-28T03:47:31.261242Z"
    },
    "papermill": {
     "duration": 0.041836,
     "end_time": "2021-09-28T03:53:28.024373",
     "exception": false,
     "start_time": "2021-09-28T03:53:27.982537",
     "status": "completed"
    },
    "tags": []
   },
   "outputs": [],
   "source": [
    "X = pd.get_dummies(train_df, columns=categorical_data)"
   ]
  },
  {
   "cell_type": "code",
   "execution_count": 12,
   "id": "bd79c0c8",
   "metadata": {
    "execution": {
     "iopub.execute_input": "2021-09-28T03:53:28.067114Z",
     "iopub.status.busy": "2021-09-28T03:53:28.066458Z",
     "iopub.status.idle": "2021-09-28T03:53:28.070195Z",
     "shell.execute_reply": "2021-09-28T03:53:28.069653Z",
     "shell.execute_reply.started": "2021-09-28T03:47:31.292325Z"
    },
    "papermill": {
     "duration": 0.028404,
     "end_time": "2021-09-28T03:53:28.070338",
     "exception": false,
     "start_time": "2021-09-28T03:53:28.041934",
     "status": "completed"
    },
    "tags": []
   },
   "outputs": [
    {
     "data": {
      "text/plain": [
       "Index(['Area', 'Perimeter', 'MajorAxisLength', 'MinorAxisLength',\n",
       "       'AspectRation', 'Eccentricity', 'ConvexArea', 'EquivDiameter', 'Extent',\n",
       "       'Solidity', 'roundness', 'Compactness', 'ShapeFactor1', 'ShapeFactor2',\n",
       "       'ShapeFactor3', 'ShapeFactor4', 'Area_categories_xlarge',\n",
       "       'Area_categories_large', 'Area_categories_medium',\n",
       "       'Area_categories_small', 'Area_categories_xsmall',\n",
       "       'Perimeter_categories_xlarge', 'Perimeter_categories_large',\n",
       "       'Perimeter_categories_medium', 'Perimeter_categories_small',\n",
       "       'Perimeter_categories_xsmall', 'MajorAxisLength_categories_xlarge',\n",
       "       'MajorAxisLength_categories_large', 'MajorAxisLength_categories_medium',\n",
       "       'MajorAxisLength_categories_small', 'MajorAxisLength_categories_xsmall',\n",
       "       'MinorAxisLength_categories_xlarge', 'MinorAxisLength_categories_large',\n",
       "       'MinorAxisLength_categories_medium', 'MinorAxisLength_categories_small',\n",
       "       'MinorAxisLength_categories_xsmall', 'AspectRation_categories_xlarge',\n",
       "       'AspectRation_categories_large', 'AspectRation_categories_medium',\n",
       "       'AspectRation_categories_small', 'AspectRation_categories_xsmall',\n",
       "       'Eccentricity_categories_xlarge', 'Eccentricity_categories_large',\n",
       "       'Eccentricity_categories_medium', 'Eccentricity_categories_small',\n",
       "       'Eccentricity_categories_xsmall', 'ConvexArea_categories_xlarge',\n",
       "       'ConvexArea_categories_large', 'ConvexArea_categories_medium',\n",
       "       'ConvexArea_categories_small', 'ConvexArea_categories_xsmall',\n",
       "       'EquivDiameter_categories_xlarge', 'EquivDiameter_categories_large',\n",
       "       'EquivDiameter_categories_medium', 'EquivDiameter_categories_small',\n",
       "       'EquivDiameter_categories_xsmall', 'Extent_categories_xlarge',\n",
       "       'Extent_categories_large', 'Extent_categories_medium',\n",
       "       'Extent_categories_small', 'Extent_categories_xsmall',\n",
       "       'Solidity_categories_xlarge', 'Solidity_categories_large',\n",
       "       'Solidity_categories_medium', 'Solidity_categories_small',\n",
       "       'Solidity_categories_xsmall', 'roundness_categories_xlarge',\n",
       "       'roundness_categories_large', 'roundness_categories_medium',\n",
       "       'roundness_categories_small', 'roundness_categories_xsmall',\n",
       "       'Compactness_categories_xlarge', 'Compactness_categories_large',\n",
       "       'Compactness_categories_medium', 'Compactness_categories_small',\n",
       "       'Compactness_categories_xsmall', 'ShapeFactor1_categories_xlarge',\n",
       "       'ShapeFactor1_categories_large', 'ShapeFactor1_categories_medium',\n",
       "       'ShapeFactor1_categories_small', 'ShapeFactor1_categories_xsmall',\n",
       "       'ShapeFactor2_categories_xlarge', 'ShapeFactor2_categories_large',\n",
       "       'ShapeFactor2_categories_medium', 'ShapeFactor2_categories_small',\n",
       "       'ShapeFactor2_categories_xsmall', 'ShapeFactor3_categories_xlarge',\n",
       "       'ShapeFactor3_categories_large', 'ShapeFactor3_categories_medium',\n",
       "       'ShapeFactor3_categories_small', 'ShapeFactor3_categories_xsmall',\n",
       "       'ShapeFactor4_categories_xlarge', 'ShapeFactor4_categories_large',\n",
       "       'ShapeFactor4_categories_medium', 'ShapeFactor4_categories_small',\n",
       "       'ShapeFactor4_categories_xsmall'],\n",
       "      dtype='object')"
      ]
     },
     "execution_count": 12,
     "metadata": {},
     "output_type": "execute_result"
    }
   ],
   "source": [
    "X.columns"
   ]
  },
  {
   "cell_type": "code",
   "execution_count": 13,
   "id": "5d78a2c7",
   "metadata": {
    "execution": {
     "iopub.execute_input": "2021-09-28T03:53:28.116018Z",
     "iopub.status.busy": "2021-09-28T03:53:28.113744Z",
     "iopub.status.idle": "2021-09-28T03:53:28.140034Z",
     "shell.execute_reply": "2021-09-28T03:53:28.139334Z",
     "shell.execute_reply.started": "2021-09-28T03:47:31.301718Z"
    },
    "papermill": {
     "duration": 0.052004,
     "end_time": "2021-09-28T03:53:28.140197",
     "exception": false,
     "start_time": "2021-09-28T03:53:28.088193",
     "status": "completed"
    },
    "tags": []
   },
   "outputs": [
    {
     "data": {
      "text/html": [
       "<div>\n",
       "<style scoped>\n",
       "    .dataframe tbody tr th:only-of-type {\n",
       "        vertical-align: middle;\n",
       "    }\n",
       "\n",
       "    .dataframe tbody tr th {\n",
       "        vertical-align: top;\n",
       "    }\n",
       "\n",
       "    .dataframe thead th {\n",
       "        text-align: right;\n",
       "    }\n",
       "</style>\n",
       "<table border=\"1\" class=\"dataframe\">\n",
       "  <thead>\n",
       "    <tr style=\"text-align: right;\">\n",
       "      <th></th>\n",
       "      <th>Area</th>\n",
       "      <th>Perimeter</th>\n",
       "      <th>MajorAxisLength</th>\n",
       "      <th>MinorAxisLength</th>\n",
       "      <th>AspectRation</th>\n",
       "      <th>Eccentricity</th>\n",
       "      <th>ConvexArea</th>\n",
       "      <th>EquivDiameter</th>\n",
       "      <th>Extent</th>\n",
       "      <th>Solidity</th>\n",
       "      <th>...</th>\n",
       "      <th>ShapeFactor3_categories_xlarge</th>\n",
       "      <th>ShapeFactor3_categories_large</th>\n",
       "      <th>ShapeFactor3_categories_medium</th>\n",
       "      <th>ShapeFactor3_categories_small</th>\n",
       "      <th>ShapeFactor3_categories_xsmall</th>\n",
       "      <th>ShapeFactor4_categories_xlarge</th>\n",
       "      <th>ShapeFactor4_categories_large</th>\n",
       "      <th>ShapeFactor4_categories_medium</th>\n",
       "      <th>ShapeFactor4_categories_small</th>\n",
       "      <th>ShapeFactor4_categories_xsmall</th>\n",
       "    </tr>\n",
       "  </thead>\n",
       "  <tbody>\n",
       "    <tr>\n",
       "      <th>0</th>\n",
       "      <td>58238</td>\n",
       "      <td>971.303</td>\n",
       "      <td>397.202654</td>\n",
       "      <td>186.945510</td>\n",
       "      <td>2.124697</td>\n",
       "      <td>0.882317</td>\n",
       "      <td>58977</td>\n",
       "      <td>272.306674</td>\n",
       "      <td>0.604756</td>\n",
       "      <td>0.987470</td>\n",
       "      <td>...</td>\n",
       "      <td>1</td>\n",
       "      <td>0</td>\n",
       "      <td>0</td>\n",
       "      <td>0</td>\n",
       "      <td>0</td>\n",
       "      <td>0</td>\n",
       "      <td>0</td>\n",
       "      <td>0</td>\n",
       "      <td>0</td>\n",
       "      <td>1</td>\n",
       "    </tr>\n",
       "    <tr>\n",
       "      <th>1</th>\n",
       "      <td>44515</td>\n",
       "      <td>757.601</td>\n",
       "      <td>265.590470</td>\n",
       "      <td>213.967453</td>\n",
       "      <td>1.241266</td>\n",
       "      <td>0.592420</td>\n",
       "      <td>44780</td>\n",
       "      <td>238.071960</td>\n",
       "      <td>0.771745</td>\n",
       "      <td>0.994082</td>\n",
       "      <td>...</td>\n",
       "      <td>0</td>\n",
       "      <td>0</td>\n",
       "      <td>0</td>\n",
       "      <td>1</td>\n",
       "      <td>0</td>\n",
       "      <td>0</td>\n",
       "      <td>0</td>\n",
       "      <td>0</td>\n",
       "      <td>0</td>\n",
       "      <td>1</td>\n",
       "    </tr>\n",
       "    <tr>\n",
       "      <th>2</th>\n",
       "      <td>31662</td>\n",
       "      <td>653.783</td>\n",
       "      <td>239.902428</td>\n",
       "      <td>168.421505</td>\n",
       "      <td>1.424417</td>\n",
       "      <td>0.712136</td>\n",
       "      <td>32034</td>\n",
       "      <td>200.781748</td>\n",
       "      <td>0.801407</td>\n",
       "      <td>0.988387</td>\n",
       "      <td>...</td>\n",
       "      <td>0</td>\n",
       "      <td>0</td>\n",
       "      <td>1</td>\n",
       "      <td>0</td>\n",
       "      <td>0</td>\n",
       "      <td>0</td>\n",
       "      <td>0</td>\n",
       "      <td>0</td>\n",
       "      <td>0</td>\n",
       "      <td>1</td>\n",
       "    </tr>\n",
       "    <tr>\n",
       "      <th>3</th>\n",
       "      <td>38778</td>\n",
       "      <td>734.020</td>\n",
       "      <td>268.446281</td>\n",
       "      <td>184.061923</td>\n",
       "      <td>1.458456</td>\n",
       "      <td>0.727925</td>\n",
       "      <td>39208</td>\n",
       "      <td>222.201897</td>\n",
       "      <td>0.766137</td>\n",
       "      <td>0.989033</td>\n",
       "      <td>...</td>\n",
       "      <td>0</td>\n",
       "      <td>0</td>\n",
       "      <td>1</td>\n",
       "      <td>0</td>\n",
       "      <td>0</td>\n",
       "      <td>0</td>\n",
       "      <td>0</td>\n",
       "      <td>0</td>\n",
       "      <td>0</td>\n",
       "      <td>1</td>\n",
       "    </tr>\n",
       "    <tr>\n",
       "      <th>4</th>\n",
       "      <td>42530</td>\n",
       "      <td>775.403</td>\n",
       "      <td>281.212824</td>\n",
       "      <td>193.236878</td>\n",
       "      <td>1.455275</td>\n",
       "      <td>0.726511</td>\n",
       "      <td>43028</td>\n",
       "      <td>232.703412</td>\n",
       "      <td>0.729816</td>\n",
       "      <td>0.988426</td>\n",
       "      <td>...</td>\n",
       "      <td>0</td>\n",
       "      <td>0</td>\n",
       "      <td>1</td>\n",
       "      <td>0</td>\n",
       "      <td>0</td>\n",
       "      <td>0</td>\n",
       "      <td>0</td>\n",
       "      <td>0</td>\n",
       "      <td>0</td>\n",
       "      <td>1</td>\n",
       "    </tr>\n",
       "  </tbody>\n",
       "</table>\n",
       "<p>5 rows × 96 columns</p>\n",
       "</div>"
      ],
      "text/plain": [
       "    Area  Perimeter  MajorAxisLength  MinorAxisLength  AspectRation  \\\n",
       "0  58238    971.303       397.202654       186.945510      2.124697   \n",
       "1  44515    757.601       265.590470       213.967453      1.241266   \n",
       "2  31662    653.783       239.902428       168.421505      1.424417   \n",
       "3  38778    734.020       268.446281       184.061923      1.458456   \n",
       "4  42530    775.403       281.212824       193.236878      1.455275   \n",
       "\n",
       "   Eccentricity  ConvexArea  EquivDiameter    Extent  Solidity  ...  \\\n",
       "0      0.882317       58977     272.306674  0.604756  0.987470  ...   \n",
       "1      0.592420       44780     238.071960  0.771745  0.994082  ...   \n",
       "2      0.712136       32034     200.781748  0.801407  0.988387  ...   \n",
       "3      0.727925       39208     222.201897  0.766137  0.989033  ...   \n",
       "4      0.726511       43028     232.703412  0.729816  0.988426  ...   \n",
       "\n",
       "   ShapeFactor3_categories_xlarge  ShapeFactor3_categories_large  \\\n",
       "0                               1                              0   \n",
       "1                               0                              0   \n",
       "2                               0                              0   \n",
       "3                               0                              0   \n",
       "4                               0                              0   \n",
       "\n",
       "   ShapeFactor3_categories_medium  ShapeFactor3_categories_small  \\\n",
       "0                               0                              0   \n",
       "1                               0                              1   \n",
       "2                               1                              0   \n",
       "3                               1                              0   \n",
       "4                               1                              0   \n",
       "\n",
       "   ShapeFactor3_categories_xsmall  ShapeFactor4_categories_xlarge  \\\n",
       "0                               0                               0   \n",
       "1                               0                               0   \n",
       "2                               0                               0   \n",
       "3                               0                               0   \n",
       "4                               0                               0   \n",
       "\n",
       "   ShapeFactor4_categories_large  ShapeFactor4_categories_medium  \\\n",
       "0                              0                               0   \n",
       "1                              0                               0   \n",
       "2                              0                               0   \n",
       "3                              0                               0   \n",
       "4                              0                               0   \n",
       "\n",
       "   ShapeFactor4_categories_small  ShapeFactor4_categories_xsmall  \n",
       "0                              0                               1  \n",
       "1                              0                               1  \n",
       "2                              0                               1  \n",
       "3                              0                               1  \n",
       "4                              0                               1  \n",
       "\n",
       "[5 rows x 96 columns]"
      ]
     },
     "execution_count": 13,
     "metadata": {},
     "output_type": "execute_result"
    }
   ],
   "source": [
    "X.head()"
   ]
  },
  {
   "cell_type": "code",
   "execution_count": 14,
   "id": "c882cc44",
   "metadata": {
    "execution": {
     "iopub.execute_input": "2021-09-28T03:53:28.186279Z",
     "iopub.status.busy": "2021-09-28T03:53:28.185291Z",
     "iopub.status.idle": "2021-09-28T03:53:28.189485Z",
     "shell.execute_reply": "2021-09-28T03:53:28.188837Z",
     "shell.execute_reply.started": "2021-09-28T03:47:31.331371Z"
    },
    "papermill": {
     "duration": 0.03081,
     "end_time": "2021-09-28T03:53:28.189654",
     "exception": false,
     "start_time": "2021-09-28T03:53:28.158844",
     "status": "completed"
    },
    "tags": []
   },
   "outputs": [
    {
     "data": {
      "text/plain": [
       "(10834, 96)"
      ]
     },
     "execution_count": 14,
     "metadata": {},
     "output_type": "execute_result"
    }
   ],
   "source": [
    "X.shape"
   ]
  },
  {
   "cell_type": "code",
   "execution_count": 15,
   "id": "9fd150aa",
   "metadata": {
    "execution": {
     "iopub.execute_input": "2021-09-28T03:53:28.236135Z",
     "iopub.status.busy": "2021-09-28T03:53:28.235427Z",
     "iopub.status.idle": "2021-09-28T03:53:28.683747Z",
     "shell.execute_reply": "2021-09-28T03:53:28.684319Z",
     "shell.execute_reply.started": "2021-09-28T03:47:31.338755Z"
    },
    "papermill": {
     "duration": 0.474173,
     "end_time": "2021-09-28T03:53:28.684495",
     "exception": false,
     "start_time": "2021-09-28T03:53:28.210322",
     "status": "completed"
    },
    "tags": []
   },
   "outputs": [],
   "source": [
    "from catboost import CatBoostClassifier\n",
    "from sklearn.model_selection import train_test_split\n",
    "from sklearn.preprocessing import StandardScaler, LabelEncoder\n",
    "from sklearn.pipeline import Pipeline\n",
    "from sklearn.metrics import accuracy_score, f1_score, make_scorer, confusion_matrix\n",
    "from xgboost import XGBClassifier"
   ]
  },
  {
   "cell_type": "code",
   "execution_count": 16,
   "id": "a669ea27",
   "metadata": {
    "execution": {
     "iopub.execute_input": "2021-09-28T03:53:28.739380Z",
     "iopub.status.busy": "2021-09-28T03:53:28.738649Z",
     "iopub.status.idle": "2021-09-28T03:53:28.767306Z",
     "shell.execute_reply": "2021-09-28T03:53:28.766234Z",
     "shell.execute_reply.started": "2021-09-28T03:47:31.352127Z"
    },
    "papermill": {
     "duration": 0.064038,
     "end_time": "2021-09-28T03:53:28.767483",
     "exception": false,
     "start_time": "2021-09-28T03:53:28.703445",
     "status": "completed"
    },
    "tags": []
   },
   "outputs": [],
   "source": [
    "X_train, X_test, y_train, y_test = train_test_split(X, y, test_size=0.2, random_state=1, stratify=y)\n",
    "\n",
    "le = LabelEncoder()\n",
    "le.fit(y_train)\n",
    "\n",
    "y_train = le.transform(y_train)\n",
    "y_test = le.transform(y_test)"
   ]
  },
  {
   "cell_type": "code",
   "execution_count": 17,
   "id": "e9388e77",
   "metadata": {
    "execution": {
     "iopub.execute_input": "2021-09-28T03:53:28.814508Z",
     "iopub.status.busy": "2021-09-28T03:53:28.813764Z",
     "iopub.status.idle": "2021-09-28T03:53:28.816661Z",
     "shell.execute_reply": "2021-09-28T03:53:28.816077Z",
     "shell.execute_reply.started": "2021-09-28T03:47:31.395913Z"
    },
    "papermill": {
     "duration": 0.029549,
     "end_time": "2021-09-28T03:53:28.816831",
     "exception": false,
     "start_time": "2021-09-28T03:53:28.787282",
     "status": "completed"
    },
    "tags": []
   },
   "outputs": [],
   "source": [
    "def plot_confusion_matrix(clf, true_values, predicted_values, name):\n",
    "    plt.figure(figsize = (8, 7))\n",
    "    sns.heatmap(confusion_matrix(true_values, predicted_values),\n",
    "                annot = True,\n",
    "                fmt = \".0f\",\n",
    "                cmap = \"coolwarm\",\n",
    "                linewidths = 2, \n",
    "                linecolor = \"white\",\n",
    "                xticklabels = clf.classes_,\n",
    "                yticklabels = clf.classes_)\n",
    "    plt.xlabel(\"Actual\")\n",
    "    plt.ylabel(\"Predicted\")\n",
    "    plt.title(f\"Confusion matrix on the {name} data\")\n",
    "    plt.show()"
   ]
  },
  {
   "cell_type": "code",
   "execution_count": 18,
   "id": "715c95cf",
   "metadata": {
    "execution": {
     "iopub.execute_input": "2021-09-28T03:53:28.869389Z",
     "iopub.status.busy": "2021-09-28T03:53:28.868648Z",
     "iopub.status.idle": "2021-09-28T03:53:54.526434Z",
     "shell.execute_reply": "2021-09-28T03:53:54.525757Z",
     "shell.execute_reply.started": "2021-09-28T03:47:31.405498Z"
    },
    "papermill": {
     "duration": 25.690287,
     "end_time": "2021-09-28T03:53:54.526591",
     "exception": false,
     "start_time": "2021-09-28T03:53:28.836304",
     "status": "completed"
    },
    "tags": []
   },
   "outputs": [
    {
     "name": "stdout",
     "output_type": "stream",
     "text": [
      "Training Accuarcy =  0.9859236183223722\n"
     ]
    },
    {
     "data": {
      "image/png": "[encoded data removed]",
      "text/plain": [
       "<Figure size 576x504 with 2 Axes>"
      ]
     },
     "metadata": {
      "needs_background": "light"
     },
     "output_type": "display_data"
    },
    {
     "name": "stdout",
     "output_type": "stream",
     "text": [
      "Validation Accuarcy =  0.9275496077526534\n"
     ]
    },
    {
     "data": {
      "image/png": "[encoded data removed]",
      "text/plain": [
       "<Figure size 576x504 with 2 Axes>"
      ]
     },
     "metadata": {
      "needs_background": "light"
     },
     "output_type": "display_data"
    }
   ],
   "source": [
    "model = CatBoostClassifier(verbose=False)\n",
    "pipe = Pipeline(steps=[('sc', StandardScaler()), ('catboost', model)])\n",
    "pipe.fit(X_train, y_train)\n",
    "\n",
    "y_pred = pipe.predict(X_train)\n",
    "print('Training Accuarcy = ', f1_score(y_train, y_pred, average='micro'))\n",
    "\n",
    "plot_confusion_matrix(pipe, y_train, y_pred, 'training')\n",
    "\n",
    "y_pred = pipe.predict(X_test)\n",
    "print('Validation Accuarcy = ', f1_score(y_test, y_pred, average='micro'))\n",
    "\n",
    "plot_confusion_matrix(pipe, y_test, y_pred, 'testing')"
   ]
  },
  {
   "cell_type": "code",
   "execution_count": 19,
   "id": "53a03cce",
   "metadata": {
    "execution": {
     "iopub.execute_input": "2021-09-28T03:53:54.584277Z",
     "iopub.status.busy": "2021-09-28T03:53:54.579701Z",
     "iopub.status.idle": "2021-09-28T03:56:13.875504Z",
     "shell.execute_reply": "2021-09-28T03:56:13.875999Z",
     "shell.execute_reply.started": "2021-09-28T03:50:41.345619Z"
    },
    "papermill": {
     "duration": 139.327625,
     "end_time": "2021-09-28T03:56:13.876263",
     "exception": false,
     "start_time": "2021-09-28T03:53:54.548638",
     "status": "completed"
    },
    "tags": []
   },
   "outputs": [
    {
     "name": "stdout",
     "output_type": "stream",
     "text": [
      "Training Accuarcy =  0.988808122764509\n"
     ]
    },
    {
     "data": {
      "image/png": "[encoded data removed]",
      "text/plain": [
       "<Figure size 576x504 with 2 Axes>"
      ]
     },
     "metadata": {
      "needs_background": "light"
     },
     "output_type": "display_data"
    },
    {
     "name": "stdout",
     "output_type": "stream",
     "text": [
      "Validation Accuarcy =  0.9275496077526534\n"
     ]
    },
    {
     "data": {
      "image/png": "[encoded data removed]",
      "text/plain": [
       "<Figure size 576x504 with 2 Axes>"
      ]
     },
     "metadata": {
      "needs_background": "light"
     },
     "output_type": "display_data"
    }
   ],
   "source": [
    "param_dist = {'n_estimators': 1000,\n",
    "              'max_depth': 15,\n",
    "              'random_state': 465,\n",
    "              'subsample': 0.3,\n",
    "              'verbosity': 0,\n",
    "              'learning_rate':0.01,\n",
    "             'use_label_encoder':False}\n",
    "\n",
    "model = XGBClassifier(**param_dist)\n",
    "\n",
    "pipe = Pipeline(steps=[('sc', StandardScaler()), ('xgboost', model)])\n",
    "pipe.fit(X_train, y_train)\n",
    "\n",
    "y_pred = pipe.predict(X_train)\n",
    "print('Training Accuarcy = ', f1_score(y_train, y_pred, average='micro'))\n",
    "\n",
    "plot_confusion_matrix(pipe, y_train, y_pred, 'training')\n",
    "\n",
    "y_pred = pipe.predict(X_test)\n",
    "print('Validation Accuarcy = ', f1_score(y_test, y_pred, average='micro'))\n",
    "\n",
    "plot_confusion_matrix(pipe, y_test, y_pred, 'testing')"
   ]
  }
 ],
 "metadata": {
  "kernelspec": {
   "display_name": "Python 3",
   "language": "python",
   "name": "python3"
  },
  "language_info": {
   "codemirror_mode": {
    "name": "ipython",
    "version": 3
   },
   "file_extension": ".py",
   "mimetype": "text/x-python",
   "name": "python",
   "nbconvert_exporter": "python",
   "pygments_lexer": "ipython3",
   "version": "3.7.10"
  },
  "papermill": {
   "default_parameters": {},
   "duration": 177.923457,
   "end_time": "2021-09-28T03:56:15.485568",
   "environment_variables": {},
   "exception": null,
   "input_path": "__notebook__.ipynb",
   "output_path": "__notebook__.ipynb",
   "parameters": {},
   "start_time": "2021-09-28T03:53:17.562111",
   "version": "2.3.3"
  }
 },
 "nbformat": 4,
 "nbformat_minor": 5
}
