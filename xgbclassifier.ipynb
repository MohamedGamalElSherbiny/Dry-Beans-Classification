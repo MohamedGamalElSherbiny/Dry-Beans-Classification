{
 "cells": [
  {
   "cell_type": "code",
   "execution_count": 1,
   "id": "f636b537",
   "metadata": {
    "_cell_guid": "b1076dfc-b9ad-4769-8c92-a6c4dae69d19",
    "_uuid": "8f2839f25d086af736a60e9eeb907d3b93b6e0e5",
    "execution": {
     "iopub.execute_input": "2021-09-29T18:59:58.482637Z",
     "iopub.status.busy": "2021-09-29T18:59:58.481439Z",
     "iopub.status.idle": "2021-09-29T18:59:59.484521Z",
     "shell.execute_reply": "2021-09-29T18:59:59.483756Z",
     "shell.execute_reply.started": "2021-09-29T18:59:28.554073Z"
    },
    "papermill": {
     "duration": 1.019369,
     "end_time": "2021-09-29T18:59:59.484704",
     "exception": false,
     "start_time": "2021-09-29T18:59:58.465335",
     "status": "completed"
    },
    "tags": []
   },
   "outputs": [
    {
     "name": "stdout",
     "output_type": "stream",
     "text": [
      "/kaggle/input/dry-beans-classification-iti-ai-pro-intake01/sample_submission.csv\n",
      "/kaggle/input/dry-beans-classification-iti-ai-pro-intake01/train.csv\n",
      "/kaggle/input/dry-beans-classification-iti-ai-pro-intake01/test.csv\n"
     ]
    }
   ],
   "source": [
    "import numpy as np\n",
    "import pandas as pd\n",
    "import os\n",
    "import matplotlib.pyplot as plt\n",
    "import seaborn as sns\n",
    "for dirname, _, filenames in os.walk('/kaggle/input'):\n",
    "    for filename in filenames:\n",
    "        print(os.path.join(dirname, filename))"
   ]
  },
  {
   "cell_type": "code",
   "execution_count": 2,
   "id": "189adf3e",
   "metadata": {
    "execution": {
     "iopub.execute_input": "2021-09-29T18:59:59.513234Z",
     "iopub.status.busy": "2021-09-29T18:59:59.512516Z",
     "iopub.status.idle": "2021-09-29T18:59:59.987014Z",
     "shell.execute_reply": "2021-09-29T18:59:59.986474Z",
     "shell.execute_reply.started": "2021-09-29T18:59:28.567568Z"
    },
    "papermill": {
     "duration": 0.488584,
     "end_time": "2021-09-29T18:59:59.987210",
     "exception": false,
     "start_time": "2021-09-29T18:59:59.498626",
     "status": "completed"
    },
    "tags": []
   },
   "outputs": [],
   "source": [
    "from sklearn.preprocessing import LabelEncoder, PowerTransformer\n",
    "from sklearn.model_selection import train_test_split\n",
    "from xgboost import XGBClassifier\n",
    "from sklearn.metrics import accuracy_score, f1_score, make_scorer, confusion_matrix\n",
    "from sklearn.model_selection import GridSearchCV\n",
    "from sklearn.ensemble import AdaBoostClassifier"
   ]
  },
  {
   "cell_type": "code",
   "execution_count": 3,
   "id": "faef0ba9",
   "metadata": {
    "execution": {
     "iopub.execute_input": "2021-09-29T19:00:00.014370Z",
     "iopub.status.busy": "2021-09-29T19:00:00.013702Z",
     "iopub.status.idle": "2021-09-29T19:00:00.125008Z",
     "shell.execute_reply": "2021-09-29T19:00:00.124454Z",
     "shell.execute_reply.started": "2021-09-29T18:59:28.576804Z"
    },
    "papermill": {
     "duration": 0.126327,
     "end_time": "2021-09-29T19:00:00.125204",
     "exception": false,
     "start_time": "2021-09-29T18:59:59.998877",
     "status": "completed"
    },
    "tags": []
   },
   "outputs": [],
   "source": [
    "train_df = pd.read_csv('/kaggle/input/dry-beans-classification-iti-ai-pro-intake01/train.csv')"
   ]
  },
  {
   "cell_type": "code",
   "execution_count": 4,
   "id": "67021ec4",
   "metadata": {
    "execution": {
     "iopub.execute_input": "2021-09-29T19:00:00.159984Z",
     "iopub.status.busy": "2021-09-29T19:00:00.157453Z",
     "iopub.status.idle": "2021-09-29T19:00:00.166839Z",
     "shell.execute_reply": "2021-09-29T19:00:00.166236Z",
     "shell.execute_reply.started": "2021-09-29T18:59:28.638101Z"
    },
    "papermill": {
     "duration": 0.030369,
     "end_time": "2021-09-29T19:00:00.166981",
     "exception": false,
     "start_time": "2021-09-29T19:00:00.136612",
     "status": "completed"
    },
    "tags": []
   },
   "outputs": [],
   "source": [
    "X = train_df.drop(columns=['ID', 'y'])\n",
    "y = train_df.y"
   ]
  },
  {
   "cell_type": "code",
   "execution_count": 5,
   "id": "403a35ea",
   "metadata": {
    "execution": {
     "iopub.execute_input": "2021-09-29T19:00:00.193356Z",
     "iopub.status.busy": "2021-09-29T19:00:00.192649Z",
     "iopub.status.idle": "2021-09-29T19:00:00.537160Z",
     "shell.execute_reply": "2021-09-29T19:00:00.536499Z",
     "shell.execute_reply.started": "2021-09-29T18:59:28.647566Z"
    },
    "papermill": {
     "duration": 0.35883,
     "end_time": "2021-09-29T19:00:00.537314",
     "exception": false,
     "start_time": "2021-09-29T19:00:00.178484",
     "status": "completed"
    },
    "tags": []
   },
   "outputs": [
    {
     "name": "stderr",
     "output_type": "stream",
     "text": [
      "/opt/conda/lib/python3.7/site-packages/numpy/core/_methods.py:205: RuntimeWarning: overflow encountered in multiply\n",
      "  x = um.multiply(x, x, out=x)\n"
     ]
    }
   ],
   "source": [
    "pt = PowerTransformer()\n",
    "\n",
    "data = ['Perimeter', 'MajorAxisLength', 'MinorAxisLength',\n",
    "       'AspectRation', 'Eccentricity', 'EquivDiameter', 'Extent',\n",
    "       'Solidity', 'roundness', 'Compactness', 'ShapeFactor1', 'ShapeFactor2',\n",
    "       'ShapeFactor3', 'ShapeFactor4']\n",
    "\n",
    "pt.fit(X[data])\n",
    "\n",
    "transformed_data = pt.transform(X[data])\n",
    "\n",
    "X[data] = transformed_data"
   ]
  },
  {
   "cell_type": "code",
   "execution_count": 6,
   "id": "4b411a15",
   "metadata": {
    "execution": {
     "iopub.execute_input": "2021-09-29T19:00:00.567383Z",
     "iopub.status.busy": "2021-09-29T19:00:00.566708Z",
     "iopub.status.idle": "2021-09-29T19:00:00.572286Z",
     "shell.execute_reply": "2021-09-29T19:00:00.571643Z",
     "shell.execute_reply.started": "2021-09-29T18:59:28.992521Z"
    },
    "papermill": {
     "duration": 0.022521,
     "end_time": "2021-09-29T19:00:00.572428",
     "exception": false,
     "start_time": "2021-09-29T19:00:00.549907",
     "status": "completed"
    },
    "tags": []
   },
   "outputs": [],
   "source": [
    "X['Area'] = np.log10(X.Area)\n",
    "X['ConvexArea'] = np.log10(X.ConvexArea)"
   ]
  },
  {
   "cell_type": "code",
   "execution_count": 7,
   "id": "d515f043",
   "metadata": {
    "execution": {
     "iopub.execute_input": "2021-09-29T19:00:00.613136Z",
     "iopub.status.busy": "2021-09-29T19:00:00.612445Z",
     "iopub.status.idle": "2021-09-29T19:00:00.629763Z",
     "shell.execute_reply": "2021-09-29T19:00:00.630320Z",
     "shell.execute_reply.started": "2021-09-29T18:59:29.001846Z"
    },
    "papermill": {
     "duration": 0.045845,
     "end_time": "2021-09-29T19:00:00.630499",
     "exception": false,
     "start_time": "2021-09-29T19:00:00.584654",
     "status": "completed"
    },
    "tags": []
   },
   "outputs": [],
   "source": [
    "X_train, X_test, y_train, y_test = train_test_split(X, y, stratify = y, random_state = 42)"
   ]
  },
  {
   "cell_type": "code",
   "execution_count": 8,
   "id": "b1698724",
   "metadata": {
    "execution": {
     "iopub.execute_input": "2021-09-29T19:00:00.659313Z",
     "iopub.status.busy": "2021-09-29T19:00:00.658638Z",
     "iopub.status.idle": "2021-09-29T19:00:00.666313Z",
     "shell.execute_reply": "2021-09-29T19:00:00.666802Z",
     "shell.execute_reply.started": "2021-09-29T18:59:29.036017Z"
    },
    "papermill": {
     "duration": 0.024756,
     "end_time": "2021-09-29T19:00:00.666988",
     "exception": false,
     "start_time": "2021-09-29T19:00:00.642232",
     "status": "completed"
    },
    "tags": []
   },
   "outputs": [],
   "source": [
    "le = LabelEncoder()\n",
    "le.fit(y_train)\n",
    "y_train = le.transform(y_train)\n",
    "y_test = le.transform(y_test)"
   ]
  },
  {
   "cell_type": "code",
   "execution_count": 9,
   "id": "7997de9f",
   "metadata": {
    "execution": {
     "iopub.execute_input": "2021-09-29T19:00:00.699416Z",
     "iopub.status.busy": "2021-09-29T19:00:00.698603Z",
     "iopub.status.idle": "2021-09-29T19:00:00.701366Z",
     "shell.execute_reply": "2021-09-29T19:00:00.700708Z",
     "shell.execute_reply.started": "2021-09-29T18:59:29.046701Z"
    },
    "papermill": {
     "duration": 0.022276,
     "end_time": "2021-09-29T19:00:00.701511",
     "exception": false,
     "start_time": "2021-09-29T19:00:00.679235",
     "status": "completed"
    },
    "tags": []
   },
   "outputs": [],
   "source": [
    "def plot_confusion_matrix(clf, true_values, predicted_values):\n",
    "    plt.figure(figsize = (8, 7))\n",
    "    sns.heatmap(confusion_matrix(true_values, predicted_values),\n",
    "                annot = True,\n",
    "                fmt = \".0f\",\n",
    "                cmap = \"coolwarm\",\n",
    "                linewidths = 2, \n",
    "                linecolor = \"white\",\n",
    "                xticklabels = le.inverse_transform(clf.classes_),\n",
    "                yticklabels = le.inverse_transform(clf.classes_))\n",
    "    plt.xlabel(\"Actual\")\n",
    "    plt.ylabel(\"Predicted\")\n",
    "    plt.title(\"Confusion matrix on the testing data\")\n",
    "    plt.show()"
   ]
  },
  {
   "cell_type": "code",
   "execution_count": 10,
   "id": "2bc92156",
   "metadata": {
    "execution": {
     "iopub.execute_input": "2021-09-29T19:00:00.733894Z",
     "iopub.status.busy": "2021-09-29T19:00:00.733126Z",
     "iopub.status.idle": "2021-09-29T19:00:05.001479Z",
     "shell.execute_reply": "2021-09-29T19:00:05.001952Z",
     "shell.execute_reply.started": "2021-09-29T18:59:29.071305Z"
    },
    "papermill": {
     "duration": 4.288633,
     "end_time": "2021-09-29T19:00:05.002161",
     "exception": false,
     "start_time": "2021-09-29T19:00:00.713528",
     "status": "completed"
    },
    "tags": []
   },
   "outputs": [
    {
     "name": "stdout",
     "output_type": "stream",
     "text": [
      "Training Accuarcy =  0.9939692307692307\n"
     ]
    },
    {
     "data": {
      "image/png": "[encoded data removed]",
      "text/plain": [
       "<Figure size 576x504 with 2 Axes>"
      ]
     },
     "metadata": {
      "needs_background": "light"
     },
     "output_type": "display_data"
    },
    {
     "name": "stdout",
     "output_type": "stream",
     "text": [
      "Validation Accuarcy =  0.9368770764119602\n"
     ]
    },
    {
     "data": {
      "image/png": "[encoded data removed]",
      "text/plain": [
       "<Figure size 576x504 with 2 Axes>"
      ]
     },
     "metadata": {
      "needs_background": "light"
     },
     "output_type": "display_data"
    }
   ],
   "source": [
    "param_dist = {'learning_rate': 0.2,\n",
    "              'max_depth': 7,\n",
    "              'n_estimators': 65,\n",
    "              'random_state': 42,\n",
    "              'verbosity': 0,\n",
    "              'subsample':0.4,\n",
    "              'use_label_encoder':False\n",
    "             }\n",
    "\n",
    "clf = XGBClassifier(**param_dist)\n",
    "\n",
    "clf.fit(X_train, y_train)\n",
    "\n",
    "y_pred = clf.predict(X_train)\n",
    "print('Training Accuarcy = ', f1_score(y_train, y_pred, average='micro'))\n",
    "plot_confusion_matrix(clf, y_train, y_pred)\n",
    "\n",
    "y_pred = clf.predict(X_test)\n",
    "print('Validation Accuarcy = ', f1_score(y_test, y_pred, average='micro'))\n",
    "plot_confusion_matrix(clf, y_test, y_pred)"
   ]
  },
  {
   "cell_type": "code",
   "execution_count": 11,
   "id": "71c9e861",
   "metadata": {
    "execution": {
     "iopub.execute_input": "2021-09-29T19:00:05.046030Z",
     "iopub.status.busy": "2021-09-29T19:00:05.045353Z",
     "iopub.status.idle": "2021-09-29T19:00:05.134963Z",
     "shell.execute_reply": "2021-09-29T19:00:05.133910Z",
     "shell.execute_reply.started": "2021-09-29T18:59:33.516390Z"
    },
    "papermill": {
     "duration": 0.112785,
     "end_time": "2021-09-29T19:00:05.135146",
     "exception": false,
     "start_time": "2021-09-29T19:00:05.022361",
     "status": "completed"
    },
    "tags": []
   },
   "outputs": [
    {
     "data": {
      "text/html": [
       "<div>\n",
       "<style scoped>\n",
       "    .dataframe tbody tr th:only-of-type {\n",
       "        vertical-align: middle;\n",
       "    }\n",
       "\n",
       "    .dataframe tbody tr th {\n",
       "        vertical-align: top;\n",
       "    }\n",
       "\n",
       "    .dataframe thead th {\n",
       "        text-align: right;\n",
       "    }\n",
       "</style>\n",
       "<table border=\"1\" class=\"dataframe\">\n",
       "  <thead>\n",
       "    <tr style=\"text-align: right;\">\n",
       "      <th></th>\n",
       "      <th>ID</th>\n",
       "      <th>Area</th>\n",
       "      <th>Perimeter</th>\n",
       "      <th>MajorAxisLength</th>\n",
       "      <th>MinorAxisLength</th>\n",
       "      <th>AspectRation</th>\n",
       "      <th>Eccentricity</th>\n",
       "      <th>ConvexArea</th>\n",
       "      <th>EquivDiameter</th>\n",
       "      <th>Extent</th>\n",
       "      <th>Solidity</th>\n",
       "      <th>roundness</th>\n",
       "      <th>Compactness</th>\n",
       "      <th>ShapeFactor1</th>\n",
       "      <th>ShapeFactor2</th>\n",
       "      <th>ShapeFactor3</th>\n",
       "      <th>ShapeFactor4</th>\n",
       "      <th>y</th>\n",
       "    </tr>\n",
       "  </thead>\n",
       "  <tbody>\n",
       "    <tr>\n",
       "      <th>0</th>\n",
       "      <td>10834</td>\n",
       "      <td>57659</td>\n",
       "      <td>955.434</td>\n",
       "      <td>387.757607</td>\n",
       "      <td>196.625782</td>\n",
       "      <td>1.972059</td>\n",
       "      <td>0.861896</td>\n",
       "      <td>60188</td>\n",
       "      <td>270.949661</td>\n",
       "      <td>0.620790</td>\n",
       "      <td>0.957982</td>\n",
       "      <td>0.793735</td>\n",
       "      <td>0.698760</td>\n",
       "      <td>0.006725</td>\n",
       "      <td>0.000989</td>\n",
       "      <td>0.488266</td>\n",
       "      <td>0.962889</td>\n",
       "      <td>HOROZ</td>\n",
       "    </tr>\n",
       "    <tr>\n",
       "      <th>1</th>\n",
       "      <td>10835</td>\n",
       "      <td>28772</td>\n",
       "      <td>630.362</td>\n",
       "      <td>229.990785</td>\n",
       "      <td>159.609367</td>\n",
       "      <td>1.440960</td>\n",
       "      <td>0.719993</td>\n",
       "      <td>29127</td>\n",
       "      <td>191.399185</td>\n",
       "      <td>0.767458</td>\n",
       "      <td>0.987812</td>\n",
       "      <td>0.909913</td>\n",
       "      <td>0.832204</td>\n",
       "      <td>0.007994</td>\n",
       "      <td>0.002365</td>\n",
       "      <td>0.692563</td>\n",
       "      <td>0.997956</td>\n",
       "      <td>DERMASON</td>\n",
       "    </tr>\n",
       "    <tr>\n",
       "      <th>2</th>\n",
       "      <td>10836</td>\n",
       "      <td>54677</td>\n",
       "      <td>911.022</td>\n",
       "      <td>308.853903</td>\n",
       "      <td>226.398571</td>\n",
       "      <td>1.364204</td>\n",
       "      <td>0.680198</td>\n",
       "      <td>55858</td>\n",
       "      <td>263.850182</td>\n",
       "      <td>0.753013</td>\n",
       "      <td>0.978857</td>\n",
       "      <td>0.827860</td>\n",
       "      <td>0.854288</td>\n",
       "      <td>0.005649</td>\n",
       "      <td>0.001856</td>\n",
       "      <td>0.729808</td>\n",
       "      <td>0.995607</td>\n",
       "      <td>BARBUNYA</td>\n",
       "    </tr>\n",
       "    <tr>\n",
       "      <th>3</th>\n",
       "      <td>10837</td>\n",
       "      <td>24827</td>\n",
       "      <td>578.304</td>\n",
       "      <td>214.192699</td>\n",
       "      <td>147.788172</td>\n",
       "      <td>1.449322</td>\n",
       "      <td>0.723831</td>\n",
       "      <td>25121</td>\n",
       "      <td>177.794033</td>\n",
       "      <td>0.716508</td>\n",
       "      <td>0.988297</td>\n",
       "      <td>0.932871</td>\n",
       "      <td>0.830066</td>\n",
       "      <td>0.008627</td>\n",
       "      <td>0.002526</td>\n",
       "      <td>0.689009</td>\n",
       "      <td>0.998596</td>\n",
       "      <td>DERMASON</td>\n",
       "    </tr>\n",
       "    <tr>\n",
       "      <th>4</th>\n",
       "      <td>10838</td>\n",
       "      <td>141850</td>\n",
       "      <td>1432.847</td>\n",
       "      <td>524.923471</td>\n",
       "      <td>346.910920</td>\n",
       "      <td>1.513136</td>\n",
       "      <td>0.750492</td>\n",
       "      <td>143680</td>\n",
       "      <td>424.981211</td>\n",
       "      <td>0.804617</td>\n",
       "      <td>0.987263</td>\n",
       "      <td>0.868240</td>\n",
       "      <td>0.809606</td>\n",
       "      <td>0.003701</td>\n",
       "      <td>0.000981</td>\n",
       "      <td>0.655462</td>\n",
       "      <td>0.991803</td>\n",
       "      <td>BOMBAY</td>\n",
       "    </tr>\n",
       "  </tbody>\n",
       "</table>\n",
       "</div>"
      ],
      "text/plain": [
       "      ID    Area  Perimeter  MajorAxisLength  MinorAxisLength  AspectRation  \\\n",
       "0  10834   57659    955.434       387.757607       196.625782      1.972059   \n",
       "1  10835   28772    630.362       229.990785       159.609367      1.440960   \n",
       "2  10836   54677    911.022       308.853903       226.398571      1.364204   \n",
       "3  10837   24827    578.304       214.192699       147.788172      1.449322   \n",
       "4  10838  141850   1432.847       524.923471       346.910920      1.513136   \n",
       "\n",
       "   Eccentricity  ConvexArea  EquivDiameter    Extent  Solidity  roundness  \\\n",
       "0      0.861896       60188     270.949661  0.620790  0.957982   0.793735   \n",
       "1      0.719993       29127     191.399185  0.767458  0.987812   0.909913   \n",
       "2      0.680198       55858     263.850182  0.753013  0.978857   0.827860   \n",
       "3      0.723831       25121     177.794033  0.716508  0.988297   0.932871   \n",
       "4      0.750492      143680     424.981211  0.804617  0.987263   0.868240   \n",
       "\n",
       "   Compactness  ShapeFactor1  ShapeFactor2  ShapeFactor3  ShapeFactor4  \\\n",
       "0     0.698760      0.006725      0.000989      0.488266      0.962889   \n",
       "1     0.832204      0.007994      0.002365      0.692563      0.997956   \n",
       "2     0.854288      0.005649      0.001856      0.729808      0.995607   \n",
       "3     0.830066      0.008627      0.002526      0.689009      0.998596   \n",
       "4     0.809606      0.003701      0.000981      0.655462      0.991803   \n",
       "\n",
       "          y  \n",
       "0     HOROZ  \n",
       "1  DERMASON  \n",
       "2  BARBUNYA  \n",
       "3  DERMASON  \n",
       "4    BOMBAY  "
      ]
     },
     "execution_count": 11,
     "metadata": {},
     "output_type": "execute_result"
    }
   ],
   "source": [
    "test_df = pd.read_csv('/kaggle/input/dry-beans-classification-iti-ai-pro-intake01/test.csv')\n",
    "X_test = test_df.drop(columns=['ID'])\n",
    "\n",
    "transformed_data = pt.transform(X_test[data])\n",
    "\n",
    "X_test[data] = transformed_data\n",
    "\n",
    "X_test['Area'] = np.log10(X_test.Area)\n",
    "X_test['ConvexArea'] = np.log10(X_test.ConvexArea)\n",
    "\n",
    "y_test_predicted = clf.predict(X_test)\n",
    "\n",
    "y_test_predicted = le.inverse_transform(y_test_predicted)\n",
    "\n",
    "test_df['y'] = y_test_predicted\n",
    "\n",
    "test_df.head()"
   ]
  },
  {
   "cell_type": "code",
   "execution_count": 12,
   "id": "605962f2",
   "metadata": {
    "execution": {
     "iopub.execute_input": "2021-09-29T19:00:05.170425Z",
     "iopub.status.busy": "2021-09-29T19:00:05.169767Z",
     "iopub.status.idle": "2021-09-29T19:00:05.183749Z",
     "shell.execute_reply": "2021-09-29T19:00:05.184326Z",
     "shell.execute_reply.started": "2021-09-29T18:59:33.587208Z"
    },
    "papermill": {
     "duration": 0.033896,
     "end_time": "2021-09-29T19:00:05.184533",
     "exception": false,
     "start_time": "2021-09-29T19:00:05.150637",
     "status": "completed"
    },
    "tags": []
   },
   "outputs": [],
   "source": [
    "test_df[['ID', 'y']].to_csv('submission.csv', index=False)"
   ]
  }
 ],
 "metadata": {
  "kernelspec": {
   "display_name": "Python 3",
   "language": "python",
   "name": "python3"
  },
  "language_info": {
   "codemirror_mode": {
    "name": "ipython",
    "version": 3
   },
   "file_extension": ".py",
   "mimetype": "text/x-python",
   "name": "python",
   "nbconvert_exporter": "python",
   "pygments_lexer": "ipython3",
   "version": "3.7.10"
  },
  "papermill": {
   "default_parameters": {},
   "duration": 16.83246,
   "end_time": "2021-09-29T19:00:06.657692",
   "environment_variables": {},
   "exception": null,
   "input_path": "__notebook__.ipynb",
   "output_path": "__notebook__.ipynb",
   "parameters": {},
   "start_time": "2021-09-29T18:59:49.825232",
   "version": "2.3.3"
  }
 },
 "nbformat": 4,
 "nbformat_minor": 5
}
