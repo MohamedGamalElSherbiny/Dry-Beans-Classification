{
 "cells": [
  {
   "cell_type": "code",
   "execution_count": 1,
   "id": "bf19a610",
   "metadata": {
    "_cell_guid": "b1076dfc-b9ad-4769-8c92-a6c4dae69d19",
    "_uuid": "8f2839f25d086af736a60e9eeb907d3b93b6e0e5",
    "execution": {
     "iopub.execute_input": "2021-09-15T19:06:13.517748Z",
     "iopub.status.busy": "2021-09-15T19:06:13.516855Z",
     "iopub.status.idle": "2021-09-15T19:06:13.524287Z",
     "shell.execute_reply": "2021-09-15T19:06:13.523342Z",
     "shell.execute_reply.started": "2021-09-15T19:02:19.479537Z"
    },
    "papermill": {
     "duration": 0.046725,
     "end_time": "2021-09-15T19:06:13.524543",
     "exception": false,
     "start_time": "2021-09-15T19:06:13.477818",
     "status": "completed"
    },
    "tags": []
   },
   "outputs": [
    {
     "name": "stdout",
     "output_type": "stream",
     "text": [
      "/kaggle/input/dry-beans-classification-iti-ai-pro-intake01/sample_submission.csv\n",
      "/kaggle/input/dry-beans-classification-iti-ai-pro-intake01/train.csv\n",
      "/kaggle/input/dry-beans-classification-iti-ai-pro-intake01/test.csv\n"
     ]
    }
   ],
   "source": [
    "import numpy as np\n",
    "import pandas as pd\n",
    "import os\n",
    "for dirname, _, filenames in os.walk('/kaggle/input'):\n",
    "    for filename in filenames:\n",
    "        print(os.path.join(dirname, filename))"
   ]
  },
  {
   "cell_type": "markdown",
   "id": "53178fcb",
   "metadata": {
    "papermill": {
     "duration": 0.031338,
     "end_time": "2021-09-15T19:06:13.586660",
     "exception": false,
     "start_time": "2021-09-15T19:06:13.555322",
     "status": "completed"
    },
    "tags": []
   },
   "source": [
    "# Import Plotting Libraries:"
   ]
  },
  {
   "cell_type": "code",
   "execution_count": 2,
   "id": "524b39e8",
   "metadata": {
    "execution": {
     "iopub.execute_input": "2021-09-15T19:06:13.642893Z",
     "iopub.status.busy": "2021-09-15T19:06:13.642244Z",
     "iopub.status.idle": "2021-09-15T19:06:14.533862Z",
     "shell.execute_reply": "2021-09-15T19:06:14.532549Z",
     "shell.execute_reply.started": "2021-09-15T19:02:19.495275Z"
    },
    "papermill": {
     "duration": 0.92188,
     "end_time": "2021-09-15T19:06:14.534014",
     "exception": false,
     "start_time": "2021-09-15T19:06:13.612134",
     "status": "completed"
    },
    "tags": []
   },
   "outputs": [],
   "source": [
    "import matplotlib.pyplot as plt\n",
    "import seaborn as sns"
   ]
  },
  {
   "cell_type": "markdown",
   "id": "e792b64e",
   "metadata": {
    "papermill": {
     "duration": 0.025763,
     "end_time": "2021-09-15T19:06:14.585512",
     "exception": false,
     "start_time": "2021-09-15T19:06:14.559749",
     "status": "completed"
    },
    "tags": []
   },
   "source": [
    "# Importing Model Libraries:"
   ]
  },
  {
   "cell_type": "code",
   "execution_count": 3,
   "id": "b0cdcd91",
   "metadata": {
    "execution": {
     "iopub.execute_input": "2021-09-15T19:06:14.644376Z",
     "iopub.status.busy": "2021-09-15T19:06:14.643497Z",
     "iopub.status.idle": "2021-09-15T19:06:15.036765Z",
     "shell.execute_reply": "2021-09-15T19:06:15.036127Z",
     "shell.execute_reply.started": "2021-09-15T19:02:19.502873Z"
    },
    "papermill": {
     "duration": 0.424136,
     "end_time": "2021-09-15T19:06:15.036924",
     "exception": false,
     "start_time": "2021-09-15T19:06:14.612788",
     "status": "completed"
    },
    "tags": []
   },
   "outputs": [],
   "source": [
    "from sklearn.preprocessing import StandardScaler, LabelEncoder\n",
    "from sklearn.ensemble import AdaBoostClassifier, RandomForestClassifier\n",
    "from sklearn.datasets import make_classification\n",
    "from sklearn.model_selection import train_test_split, GridSearchCV\n",
    "from sklearn.metrics import accuracy_score, f1_score, classification_report, confusion_matrix, make_scorer"
   ]
  },
  {
   "cell_type": "markdown",
   "id": "bb518f99",
   "metadata": {
    "papermill": {
     "duration": 0.032573,
     "end_time": "2021-09-15T19:06:15.101554",
     "exception": false,
     "start_time": "2021-09-15T19:06:15.068981",
     "status": "completed"
    },
    "tags": []
   },
   "source": [
    "## Import Data:"
   ]
  },
  {
   "cell_type": "code",
   "execution_count": 4,
   "id": "f0e25bff",
   "metadata": {
    "execution": {
     "iopub.execute_input": "2021-09-15T19:06:15.164566Z",
     "iopub.status.busy": "2021-09-15T19:06:15.163914Z",
     "iopub.status.idle": "2021-09-15T19:06:15.283722Z",
     "shell.execute_reply": "2021-09-15T19:06:15.283155Z",
     "shell.execute_reply.started": "2021-09-15T19:02:19.513784Z"
    },
    "papermill": {
     "duration": 0.149998,
     "end_time": "2021-09-15T19:06:15.283880",
     "exception": false,
     "start_time": "2021-09-15T19:06:15.133882",
     "status": "completed"
    },
    "tags": []
   },
   "outputs": [],
   "source": [
    "train_df = pd.read_csv('/kaggle/input/dry-beans-classification-iti-ai-pro-intake01/train.csv')"
   ]
  },
  {
   "cell_type": "code",
   "execution_count": 5,
   "id": "4884b74e",
   "metadata": {
    "execution": {
     "iopub.execute_input": "2021-09-15T19:06:15.349586Z",
     "iopub.status.busy": "2021-09-15T19:06:15.348831Z",
     "iopub.status.idle": "2021-09-15T19:06:15.351504Z",
     "shell.execute_reply": "2021-09-15T19:06:15.351948Z",
     "shell.execute_reply.started": "2021-09-15T19:02:19.587019Z"
    },
    "papermill": {
     "duration": 0.041827,
     "end_time": "2021-09-15T19:06:15.352130",
     "exception": false,
     "start_time": "2021-09-15T19:06:15.310303",
     "status": "completed"
    },
    "tags": []
   },
   "outputs": [],
   "source": [
    "X = train_df.drop(columns=['ID','y'])\n",
    "y = train_df.y"
   ]
  },
  {
   "cell_type": "code",
   "execution_count": 6,
   "id": "72af2f51",
   "metadata": {
    "execution": {
     "iopub.execute_input": "2021-09-15T19:06:15.421020Z",
     "iopub.status.busy": "2021-09-15T19:06:15.420199Z",
     "iopub.status.idle": "2021-09-15T19:06:15.435922Z",
     "shell.execute_reply": "2021-09-15T19:06:15.436410Z",
     "shell.execute_reply.started": "2021-09-15T19:02:19.597048Z"
    },
    "papermill": {
     "duration": 0.058676,
     "end_time": "2021-09-15T19:06:15.436596",
     "exception": false,
     "start_time": "2021-09-15T19:06:15.377920",
     "status": "completed"
    },
    "tags": []
   },
   "outputs": [],
   "source": [
    "train_features, val_features, train_labels, val_labels = train_test_split(X,\n",
    "                                                                          y,\n",
    "                                                                          test_size = 0.3,\n",
    "                                                                          stratify = y,\n",
    "                                                                          random_state = 42)"
   ]
  },
  {
   "cell_type": "markdown",
   "id": "66e89d46",
   "metadata": {
    "papermill": {
     "duration": 0.02501,
     "end_time": "2021-09-15T19:06:15.487088",
     "exception": false,
     "start_time": "2021-09-15T19:06:15.462078",
     "status": "completed"
    },
    "tags": []
   },
   "source": [
    "## Label Encoding:"
   ]
  },
  {
   "cell_type": "code",
   "execution_count": 7,
   "id": "b7310eba",
   "metadata": {
    "execution": {
     "iopub.execute_input": "2021-09-15T19:06:15.544872Z",
     "iopub.status.busy": "2021-09-15T19:06:15.543822Z",
     "iopub.status.idle": "2021-09-15T19:06:15.551129Z",
     "shell.execute_reply": "2021-09-15T19:06:15.550504Z",
     "shell.execute_reply.started": "2021-09-15T19:02:19.631124Z"
    },
    "papermill": {
     "duration": 0.038865,
     "end_time": "2021-09-15T19:06:15.551297",
     "exception": false,
     "start_time": "2021-09-15T19:06:15.512432",
     "status": "completed"
    },
    "tags": []
   },
   "outputs": [
    {
     "data": {
      "text/plain": [
       "LabelEncoder()"
      ]
     },
     "execution_count": 7,
     "metadata": {},
     "output_type": "execute_result"
    }
   ],
   "source": [
    "le = LabelEncoder()\n",
    "le.fit(train_labels)"
   ]
  },
  {
   "cell_type": "code",
   "execution_count": 8,
   "id": "bc926626",
   "metadata": {
    "execution": {
     "iopub.execute_input": "2021-09-15T19:06:15.610439Z",
     "iopub.status.busy": "2021-09-15T19:06:15.609803Z",
     "iopub.status.idle": "2021-09-15T19:06:15.613025Z",
     "shell.execute_reply": "2021-09-15T19:06:15.612431Z",
     "shell.execute_reply.started": "2021-09-15T19:02:19.639556Z"
    },
    "papermill": {
     "duration": 0.036183,
     "end_time": "2021-09-15T19:06:15.613171",
     "exception": false,
     "start_time": "2021-09-15T19:06:15.576988",
     "status": "completed"
    },
    "tags": []
   },
   "outputs": [],
   "source": [
    "train_labels = le.transform(train_labels)\n",
    "val_labels = le.transform(val_labels)"
   ]
  },
  {
   "cell_type": "markdown",
   "id": "9f0279cf",
   "metadata": {
    "papermill": {
     "duration": 0.025525,
     "end_time": "2021-09-15T19:06:15.664401",
     "exception": false,
     "start_time": "2021-09-15T19:06:15.638876",
     "status": "completed"
    },
    "tags": []
   },
   "source": [
    "## Scalling the Data:"
   ]
  },
  {
   "cell_type": "code",
   "execution_count": 9,
   "id": "5439a46c",
   "metadata": {
    "execution": {
     "iopub.execute_input": "2021-09-15T19:06:15.722898Z",
     "iopub.status.busy": "2021-09-15T19:06:15.721706Z",
     "iopub.status.idle": "2021-09-15T19:06:15.729048Z",
     "shell.execute_reply": "2021-09-15T19:06:15.729515Z",
     "shell.execute_reply.started": "2021-09-15T19:05:32.994111Z"
    },
    "papermill": {
     "duration": 0.039621,
     "end_time": "2021-09-15T19:06:15.729688",
     "exception": false,
     "start_time": "2021-09-15T19:06:15.690067",
     "status": "completed"
    },
    "tags": []
   },
   "outputs": [
    {
     "data": {
      "text/plain": [
       "StandardScaler()"
      ]
     },
     "execution_count": 9,
     "metadata": {},
     "output_type": "execute_result"
    }
   ],
   "source": [
    "scaler = StandardScaler()\n",
    "scaler.fit(train_features)"
   ]
  },
  {
   "cell_type": "code",
   "execution_count": 10,
   "id": "bf660718",
   "metadata": {
    "execution": {
     "iopub.execute_input": "2021-09-15T19:06:15.787599Z",
     "iopub.status.busy": "2021-09-15T19:06:15.786943Z",
     "iopub.status.idle": "2021-09-15T19:06:15.793760Z",
     "shell.execute_reply": "2021-09-15T19:06:15.793208Z",
     "shell.execute_reply.started": "2021-09-15T19:02:19.672506Z"
    },
    "papermill": {
     "duration": 0.038333,
     "end_time": "2021-09-15T19:06:15.793896",
     "exception": false,
     "start_time": "2021-09-15T19:06:15.755563",
     "status": "completed"
    },
    "tags": []
   },
   "outputs": [],
   "source": [
    "train_features = scaler.transform(train_features)\n",
    "val_features = scaler.transform(val_features)"
   ]
  },
  {
   "cell_type": "markdown",
   "id": "249b987e",
   "metadata": {
    "papermill": {
     "duration": 0.025452,
     "end_time": "2021-09-15T19:06:15.845367",
     "exception": false,
     "start_time": "2021-09-15T19:06:15.819915",
     "status": "completed"
    },
    "tags": []
   },
   "source": [
    "## Gridsearch:"
   ]
  },
  {
   "cell_type": "code",
   "execution_count": 11,
   "id": "2e725f01",
   "metadata": {
    "execution": {
     "iopub.execute_input": "2021-09-15T19:06:15.900098Z",
     "iopub.status.busy": "2021-09-15T19:06:15.899489Z",
     "iopub.status.idle": "2021-09-15T19:06:15.903805Z",
     "shell.execute_reply": "2021-09-15T19:06:15.903047Z",
     "shell.execute_reply.started": "2021-09-15T19:02:19.682472Z"
    },
    "papermill": {
     "duration": 0.032728,
     "end_time": "2021-09-15T19:06:15.903959",
     "exception": false,
     "start_time": "2021-09-15T19:06:15.871231",
     "status": "completed"
    },
    "tags": []
   },
   "outputs": [],
   "source": [
    "f1 = make_scorer(f1_score , average = \"weighted\")"
   ]
  },
  {
   "cell_type": "code",
   "execution_count": 12,
   "id": "ada3d55c",
   "metadata": {
    "execution": {
     "iopub.execute_input": "2021-09-15T19:06:15.960223Z",
     "iopub.status.busy": "2021-09-15T19:06:15.959277Z",
     "iopub.status.idle": "2021-09-15T19:08:24.257136Z",
     "shell.execute_reply": "2021-09-15T19:08:24.257708Z",
     "shell.execute_reply.started": "2021-09-15T19:02:19.690680Z"
    },
    "papermill": {
     "duration": 128.327823,
     "end_time": "2021-09-15T19:08:24.257887",
     "exception": false,
     "start_time": "2021-09-15T19:06:15.930064",
     "status": "completed"
    },
    "tags": []
   },
   "outputs": [
    {
     "data": {
      "text/plain": [
       "GridSearchCV(cv=4,\n",
       "             estimator=AdaBoostClassifier(base_estimator=RandomForestClassifier(max_depth=10,\n",
       "                                                                                n_estimators=20,\n",
       "                                                                                random_state=42)),\n",
       "             n_jobs=-1,\n",
       "             param_grid={'learning_rate': [0.4, 0.6, 0.8, 1.0],\n",
       "                         'n_estimators': [5, 10, 15, 20]},\n",
       "             scoring=make_scorer(f1_score, average=weighted))"
      ]
     },
     "execution_count": 12,
     "metadata": {},
     "output_type": "execute_result"
    }
   ],
   "source": [
    "params_ada = {\n",
    "    \"n_estimators\": [5, 10, 15, 20],\n",
    "    \"learning_rate\": [0.4, 0.6, 0.8, 1.0]\n",
    "}\n",
    "\n",
    "gs_ada = GridSearchCV(AdaBoostClassifier(base_estimator = RandomForestClassifier(max_depth = 10, n_estimators = 20, random_state = 42)),\n",
    "                      param_grid = params_ada, scoring = f1, cv = 4, n_jobs = -1)\n",
    "\n",
    "gs_ada.fit(train_features, train_labels)"
   ]
  },
  {
   "cell_type": "code",
   "execution_count": 13,
   "id": "fe8b2f01",
   "metadata": {
    "execution": {
     "iopub.execute_input": "2021-09-15T19:08:24.324754Z",
     "iopub.status.busy": "2021-09-15T19:08:24.323986Z",
     "iopub.status.idle": "2021-09-15T19:08:24.326993Z",
     "shell.execute_reply": "2021-09-15T19:08:24.327484Z",
     "shell.execute_reply.started": "2021-09-15T19:04:22.488921Z"
    },
    "papermill": {
     "duration": 0.042376,
     "end_time": "2021-09-15T19:08:24.327651",
     "exception": false,
     "start_time": "2021-09-15T19:08:24.285275",
     "status": "completed"
    },
    "tags": []
   },
   "outputs": [
    {
     "data": {
      "text/plain": [
       "{'mean_fit_time': array([ 2.8048346 ,  5.93588507,  8.95201516, 11.45053786,  2.85306442,\n",
       "         5.69306552,  8.56057668, 11.81608033,  2.80322266,  5.71540225,\n",
       "         8.59161156, 11.83577085,  2.8215915 ,  5.71281797,  8.47858477,\n",
       "        11.57671428]),\n",
       " 'std_fit_time': array([0.01099434, 0.0405085 , 0.17748965, 0.02747418, 0.01698206,\n",
       "        0.01774388, 0.03631973, 0.14615298, 0.00642783, 0.03488327,\n",
       "        0.01850216, 0.12137267, 0.02191633, 0.01384082, 0.02148042,\n",
       "        0.11450758]),\n",
       " 'mean_score_time': array([0.05801445, 0.11871481, 0.16980082, 0.2254476 , 0.05694562,\n",
       "        0.11139488, 0.17424381, 0.22367436, 0.05730057, 0.11553794,\n",
       "        0.17070651, 0.22789574, 0.05774474, 0.11354917, 0.16889042,\n",
       "        0.17943341]),\n",
       " 'std_score_time': array([0.00142188, 0.00731589, 0.00238237, 0.00460455, 0.00033971,\n",
       "        0.00099626, 0.00621444, 0.00193062, 0.00106381, 0.00235225,\n",
       "        0.00283582, 0.00191443, 0.00028011, 0.00102533, 0.00218547,\n",
       "        0.02619277]),\n",
       " 'param_learning_rate': masked_array(data=[0.4, 0.4, 0.4, 0.4, 0.6, 0.6, 0.6, 0.6, 0.8, 0.8, 0.8,\n",
       "                    0.8, 1.0, 1.0, 1.0, 1.0],\n",
       "              mask=[False, False, False, False, False, False, False, False,\n",
       "                    False, False, False, False, False, False, False, False],\n",
       "        fill_value='?',\n",
       "             dtype=object),\n",
       " 'param_n_estimators': masked_array(data=[5, 10, 15, 20, 5, 10, 15, 20, 5, 10, 15, 20, 5, 10, 15,\n",
       "                    20],\n",
       "              mask=[False, False, False, False, False, False, False, False,\n",
       "                    False, False, False, False, False, False, False, False],\n",
       "        fill_value='?',\n",
       "             dtype=object),\n",
       " 'params': [{'learning_rate': 0.4, 'n_estimators': 5},\n",
       "  {'learning_rate': 0.4, 'n_estimators': 10},\n",
       "  {'learning_rate': 0.4, 'n_estimators': 15},\n",
       "  {'learning_rate': 0.4, 'n_estimators': 20},\n",
       "  {'learning_rate': 0.6, 'n_estimators': 5},\n",
       "  {'learning_rate': 0.6, 'n_estimators': 10},\n",
       "  {'learning_rate': 0.6, 'n_estimators': 15},\n",
       "  {'learning_rate': 0.6, 'n_estimators': 20},\n",
       "  {'learning_rate': 0.8, 'n_estimators': 5},\n",
       "  {'learning_rate': 0.8, 'n_estimators': 10},\n",
       "  {'learning_rate': 0.8, 'n_estimators': 15},\n",
       "  {'learning_rate': 0.8, 'n_estimators': 20},\n",
       "  {'learning_rate': 1.0, 'n_estimators': 5},\n",
       "  {'learning_rate': 1.0, 'n_estimators': 10},\n",
       "  {'learning_rate': 1.0, 'n_estimators': 15},\n",
       "  {'learning_rate': 1.0, 'n_estimators': 20}],\n",
       " 'split0_test_score': array([0.91687103, 0.9164745 , 0.91705831, 0.92015606, 0.9170051 ,\n",
       "        0.91349213, 0.92129114, 0.91566259, 0.91855738, 0.91856583,\n",
       "        0.91878031, 0.91660101, 0.91797135, 0.9208863 , 0.91974703,\n",
       "        0.91700775]),\n",
       " 'split1_test_score': array([0.92795464, 0.92414405, 0.92245198, 0.92333638, 0.92496684,\n",
       "        0.9225263 , 0.92401304, 0.91998999, 0.92311166, 0.9228807 ,\n",
       "        0.92720352, 0.92180412, 0.92510395, 0.92082237, 0.91914179,\n",
       "        0.91941267]),\n",
       " 'split2_test_score': array([0.91237175, 0.91178871, 0.90895206, 0.91047296, 0.91296047,\n",
       "        0.91102352, 0.90701997, 0.91097699, 0.91470715, 0.90965223,\n",
       "        0.91327015, 0.91320034, 0.91170965, 0.91291505, 0.91139906,\n",
       "        0.90938727]),\n",
       " 'split3_test_score': array([0.91436963, 0.91242718, 0.91722138, 0.9123588 , 0.91289624,\n",
       "        0.91201095, 0.91552501, 0.91352279, 0.92076023, 0.90957676,\n",
       "        0.91813951, 0.91442125, 0.91576906, 0.9103667 , 0.91565738,\n",
       "        0.91556617]),\n",
       " 'mean_test_score': array([0.91789176, 0.91620861, 0.91642094, 0.91658105, 0.91695716,\n",
       "        0.91476323, 0.91696229, 0.91503809, 0.91928411, 0.91516888,\n",
       "        0.91934837, 0.91650668, 0.9176385 , 0.9162476 , 0.91648631,\n",
       "        0.91534346]),\n",
       " 'std_test_score': array([0.00602452, 0.0049213 , 0.00482712, 0.00532803, 0.00491482,\n",
       "        0.00456731, 0.00650706, 0.0033053 , 0.00309458, 0.00576014,\n",
       "        0.00501079, 0.00329214, 0.0048603 , 0.00469406, 0.00332608,\n",
       "        0.00370318]),\n",
       " 'rank_test_score': array([ 3, 12, 10,  7,  6, 16,  5, 15,  2, 14,  1,  8,  4, 11,  9, 13],\n",
       "       dtype=int32)}"
      ]
     },
     "execution_count": 13,
     "metadata": {},
     "output_type": "execute_result"
    }
   ],
   "source": [
    "gs_ada.cv_results_"
   ]
  },
  {
   "cell_type": "code",
   "execution_count": 14,
   "id": "2c6ad4fa",
   "metadata": {
    "execution": {
     "iopub.execute_input": "2021-09-15T19:08:24.387084Z",
     "iopub.status.busy": "2021-09-15T19:08:24.386412Z",
     "iopub.status.idle": "2021-09-15T19:08:24.391719Z",
     "shell.execute_reply": "2021-09-15T19:08:24.391086Z",
     "shell.execute_reply.started": "2021-09-15T19:04:22.503784Z"
    },
    "papermill": {
     "duration": 0.036725,
     "end_time": "2021-09-15T19:08:24.391855",
     "exception": false,
     "start_time": "2021-09-15T19:08:24.355130",
     "status": "completed"
    },
    "tags": []
   },
   "outputs": [
    {
     "data": {
      "text/plain": [
       "{'learning_rate': 0.8, 'n_estimators': 15}"
      ]
     },
     "execution_count": 14,
     "metadata": {},
     "output_type": "execute_result"
    }
   ],
   "source": [
    "gs_ada.best_params_"
   ]
  },
  {
   "cell_type": "markdown",
   "id": "8529d1d7",
   "metadata": {
    "papermill": {
     "duration": 0.026809,
     "end_time": "2021-09-15T19:08:24.445613",
     "exception": false,
     "start_time": "2021-09-15T19:08:24.418804",
     "status": "completed"
    },
    "tags": []
   },
   "source": [
    "## Training the Model:"
   ]
  },
  {
   "cell_type": "code",
   "execution_count": 15,
   "id": "ba230616",
   "metadata": {
    "execution": {
     "iopub.execute_input": "2021-09-15T19:08:24.505201Z",
     "iopub.status.busy": "2021-09-15T19:08:24.504441Z",
     "iopub.status.idle": "2021-09-15T19:08:24.507137Z",
     "shell.execute_reply": "2021-09-15T19:08:24.506644Z",
     "shell.execute_reply.started": "2021-09-15T19:04:22.515040Z"
    },
    "papermill": {
     "duration": 0.034721,
     "end_time": "2021-09-15T19:08:24.507291",
     "exception": false,
     "start_time": "2021-09-15T19:08:24.472570",
     "status": "completed"
    },
    "tags": []
   },
   "outputs": [],
   "source": [
    "ada = AdaBoostClassifier(base_estimator = RandomForestClassifier(max_depth = 10, n_estimators = 20, random_state = 42),\n",
    "                         n_estimators = 15, learning_rate = 0.4, random_state = 42)"
   ]
  },
  {
   "cell_type": "code",
   "execution_count": 16,
   "id": "dc381275",
   "metadata": {
    "execution": {
     "iopub.execute_input": "2021-09-15T19:08:24.567850Z",
     "iopub.status.busy": "2021-09-15T19:08:24.567037Z",
     "iopub.status.idle": "2021-09-15T19:08:24.569623Z",
     "shell.execute_reply": "2021-09-15T19:08:24.569153Z",
     "shell.execute_reply.started": "2021-09-15T19:04:22.526407Z"
    },
    "papermill": {
     "duration": 0.035436,
     "end_time": "2021-09-15T19:08:24.569766",
     "exception": false,
     "start_time": "2021-09-15T19:08:24.534330",
     "status": "completed"
    },
    "tags": []
   },
   "outputs": [],
   "source": [
    "def classification_task(estimator, attributes, labels):\n",
    "    \"\"\"\n",
    "    Function: \"fit\", \"predict\" and \"score\" values of an estimator.\n",
    "    \n",
    "    Parameters: estimator, attributes (X) and labels (y).\n",
    "    \n",
    "    Returns: model's performance measured as accuracy and f1_score.\n",
    "    \"\"\"\n",
    "    estimator.fit(attributes, labels)\n",
    "    predictions = estimator.predict(attributes)\n",
    "    \n",
    "    print(f\"Accuracy: {accuracy_score(labels, predictions)}\")\n",
    "    print(f\"F1 score: {f1_score(labels, predictions, average = 'weighted')}\")"
   ]
  },
  {
   "cell_type": "markdown",
   "id": "b31c5e7b",
   "metadata": {
    "papermill": {
     "duration": 0.026571,
     "end_time": "2021-09-15T19:08:24.623445",
     "exception": false,
     "start_time": "2021-09-15T19:08:24.596874",
     "status": "completed"
    },
    "tags": []
   },
   "source": [
    "## Printing Scores:"
   ]
  },
  {
   "cell_type": "code",
   "execution_count": 17,
   "id": "b5af7f63",
   "metadata": {
    "execution": {
     "iopub.execute_input": "2021-09-15T19:08:24.682811Z",
     "iopub.status.busy": "2021-09-15T19:08:24.681174Z",
     "iopub.status.idle": "2021-09-15T19:08:32.992449Z",
     "shell.execute_reply": "2021-09-15T19:08:32.993238Z",
     "shell.execute_reply.started": "2021-09-15T19:04:22.536848Z"
    },
    "papermill": {
     "duration": 8.343276,
     "end_time": "2021-09-15T19:08:32.993521",
     "exception": false,
     "start_time": "2021-09-15T19:08:24.650245",
     "status": "completed"
    },
    "tags": []
   },
   "outputs": [
    {
     "name": "stdout",
     "output_type": "stream",
     "text": [
      "Accuracy: 0.9730977185810366\n",
      "F1 score: 0.9731492183458299\n"
     ]
    }
   ],
   "source": [
    "classification_task(ada, train_features, train_labels)"
   ]
  },
  {
   "cell_type": "code",
   "execution_count": 18,
   "id": "d38aa37f",
   "metadata": {
    "execution": {
     "iopub.execute_input": "2021-09-15T19:08:33.058862Z",
     "iopub.status.busy": "2021-09-15T19:08:33.058211Z",
     "iopub.status.idle": "2021-09-15T19:08:36.678078Z",
     "shell.execute_reply": "2021-09-15T19:08:36.677576Z",
     "shell.execute_reply.started": "2021-09-15T19:04:30.862046Z"
    },
    "papermill": {
     "duration": 3.654991,
     "end_time": "2021-09-15T19:08:36.678240",
     "exception": false,
     "start_time": "2021-09-15T19:08:33.023249",
     "status": "completed"
    },
    "tags": []
   },
   "outputs": [
    {
     "name": "stdout",
     "output_type": "stream",
     "text": [
      "Accuracy: 0.9923100584435558\n",
      "F1 score: 0.9923134863142836\n"
     ]
    }
   ],
   "source": [
    "classification_task(ada, val_features, val_labels)"
   ]
  },
  {
   "cell_type": "markdown",
   "id": "e970cb3c",
   "metadata": {
    "papermill": {
     "duration": 0.027419,
     "end_time": "2021-09-15T19:08:36.733099",
     "exception": false,
     "start_time": "2021-09-15T19:08:36.705680",
     "status": "completed"
    },
    "tags": []
   },
   "source": [
    "## Plotting Confusion Matrix:"
   ]
  },
  {
   "cell_type": "code",
   "execution_count": 19,
   "id": "8f2107de",
   "metadata": {
    "execution": {
     "iopub.execute_input": "2021-09-15T19:08:36.796201Z",
     "iopub.status.busy": "2021-09-15T19:08:36.795191Z",
     "iopub.status.idle": "2021-09-15T19:08:36.797391Z",
     "shell.execute_reply": "2021-09-15T19:08:36.797893Z",
     "shell.execute_reply.started": "2021-09-15T19:04:34.512495Z"
    },
    "papermill": {
     "duration": 0.037055,
     "end_time": "2021-09-15T19:08:36.798054",
     "exception": false,
     "start_time": "2021-09-15T19:08:36.760999",
     "status": "completed"
    },
    "tags": []
   },
   "outputs": [],
   "source": [
    "def plot_confusion_matrix(true_values, predicted_values):\n",
    "    plt.figure(figsize = (8, 7))\n",
    "    sns.heatmap(confusion_matrix(true_values, predicted_values),\n",
    "                annot = True,\n",
    "                fmt = \".0f\",\n",
    "                cmap = \"coolwarm\",\n",
    "                linewidths = 2, \n",
    "                linecolor = \"white\",\n",
    "                xticklabels = ada.classes_,\n",
    "                yticklabels = ada.classes_)\n",
    "    plt.xlabel(\"Actual\")\n",
    "    plt.ylabel(\"Predicted\")\n",
    "    plt.title(\"Confusion matrix on the testing data\")\n",
    "    plt.show()"
   ]
  },
  {
   "cell_type": "code",
   "execution_count": 20,
   "id": "b6071428",
   "metadata": {
    "execution": {
     "iopub.execute_input": "2021-09-15T19:08:36.857493Z",
     "iopub.status.busy": "2021-09-15T19:08:36.856519Z",
     "iopub.status.idle": "2021-09-15T19:08:37.829209Z",
     "shell.execute_reply": "2021-09-15T19:08:37.829704Z",
     "shell.execute_reply.started": "2021-09-15T19:04:34.522015Z"
    },
    "papermill": {
     "duration": 1.004265,
     "end_time": "2021-09-15T19:08:37.829874",
     "exception": false,
     "start_time": "2021-09-15T19:08:36.825609",
     "status": "completed"
    },
    "tags": []
   },
   "outputs": [
    {
     "data": {
      "image/png": "[encoded data removed]",
      "text/plain": [
       "<Figure size 576x504 with 2 Axes>"
      ]
     },
     "metadata": {
      "needs_background": "light"
     },
     "output_type": "display_data"
    }
   ],
   "source": [
    "predicted = ada.predict(train_features)\n",
    "plot_confusion_matrix(train_labels, predicted)"
   ]
  },
  {
   "cell_type": "code",
   "execution_count": 21,
   "id": "27287f5a",
   "metadata": {
    "execution": {
     "iopub.execute_input": "2021-09-15T19:08:37.892976Z",
     "iopub.status.busy": "2021-09-15T19:08:37.891939Z",
     "iopub.status.idle": "2021-09-15T19:08:38.554441Z",
     "shell.execute_reply": "2021-09-15T19:08:38.553823Z",
     "shell.execute_reply.started": "2021-09-15T19:04:35.517882Z"
    },
    "papermill": {
     "duration": 0.695766,
     "end_time": "2021-09-15T19:08:38.554600",
     "exception": false,
     "start_time": "2021-09-15T19:08:37.858834",
     "status": "completed"
    },
    "tags": []
   },
   "outputs": [
    {
     "data": {
      "image/png": "[encoded data removed]",
      "text/plain": [
       "<Figure size 576x504 with 2 Axes>"
      ]
     },
     "metadata": {
      "needs_background": "light"
     },
     "output_type": "display_data"
    }
   ],
   "source": [
    "predicted = ada.predict(val_features)\n",
    "plot_confusion_matrix(val_labels, predicted)"
   ]
  },
  {
   "cell_type": "markdown",
   "id": "fedc146d",
   "metadata": {
    "papermill": {
     "duration": 0.030446,
     "end_time": "2021-09-15T19:08:38.620839",
     "exception": false,
     "start_time": "2021-09-15T19:08:38.590393",
     "status": "completed"
    },
    "tags": []
   },
   "source": [
    "## Test Data:"
   ]
  },
  {
   "cell_type": "code",
   "execution_count": 22,
   "id": "2b45d4d5",
   "metadata": {
    "execution": {
     "iopub.execute_input": "2021-09-15T19:08:38.686696Z",
     "iopub.status.busy": "2021-09-15T19:08:38.686022Z",
     "iopub.status.idle": "2021-09-15T19:08:38.717642Z",
     "shell.execute_reply": "2021-09-15T19:08:38.716944Z",
     "shell.execute_reply.started": "2021-09-15T19:05:38.930523Z"
    },
    "papermill": {
     "duration": 0.066584,
     "end_time": "2021-09-15T19:08:38.717785",
     "exception": false,
     "start_time": "2021-09-15T19:08:38.651201",
     "status": "completed"
    },
    "tags": []
   },
   "outputs": [],
   "source": [
    "test_data = pd.read_csv('/kaggle/input/dry-beans-classification-iti-ai-pro-intake01/test.csv')"
   ]
  },
  {
   "cell_type": "code",
   "execution_count": 23,
   "id": "36522c7f",
   "metadata": {
    "execution": {
     "iopub.execute_input": "2021-09-15T19:08:38.785483Z",
     "iopub.status.busy": "2021-09-15T19:08:38.780469Z",
     "iopub.status.idle": "2021-09-15T19:08:38.789057Z",
     "shell.execute_reply": "2021-09-15T19:08:38.789670Z",
     "shell.execute_reply.started": "2021-09-15T19:05:41.571489Z"
    },
    "papermill": {
     "duration": 0.042176,
     "end_time": "2021-09-15T19:08:38.789844",
     "exception": false,
     "start_time": "2021-09-15T19:08:38.747668",
     "status": "completed"
    },
    "tags": []
   },
   "outputs": [],
   "source": [
    "X_test = scaler.transform(test_data.drop(columns=['ID']))"
   ]
  },
  {
   "cell_type": "code",
   "execution_count": 24,
   "id": "4c746088",
   "metadata": {
    "execution": {
     "iopub.execute_input": "2021-09-15T19:08:38.855458Z",
     "iopub.status.busy": "2021-09-15T19:08:38.852723Z",
     "iopub.status.idle": "2021-09-15T19:08:39.034278Z",
     "shell.execute_reply": "2021-09-15T19:08:39.034763Z",
     "shell.execute_reply.started": "2021-09-15T19:05:43.658315Z"
    },
    "papermill": {
     "duration": 0.214823,
     "end_time": "2021-09-15T19:08:39.034929",
     "exception": false,
     "start_time": "2021-09-15T19:08:38.820106",
     "status": "completed"
    },
    "tags": []
   },
   "outputs": [
    {
     "data": {
      "text/html": [
       "<div>\n",
       "<style scoped>\n",
       "    .dataframe tbody tr th:only-of-type {\n",
       "        vertical-align: middle;\n",
       "    }\n",
       "\n",
       "    .dataframe tbody tr th {\n",
       "        vertical-align: top;\n",
       "    }\n",
       "\n",
       "    .dataframe thead th {\n",
       "        text-align: right;\n",
       "    }\n",
       "</style>\n",
       "<table border=\"1\" class=\"dataframe\">\n",
       "  <thead>\n",
       "    <tr style=\"text-align: right;\">\n",
       "      <th></th>\n",
       "      <th>ID</th>\n",
       "      <th>Area</th>\n",
       "      <th>Perimeter</th>\n",
       "      <th>MajorAxisLength</th>\n",
       "      <th>MinorAxisLength</th>\n",
       "      <th>AspectRation</th>\n",
       "      <th>Eccentricity</th>\n",
       "      <th>ConvexArea</th>\n",
       "      <th>EquivDiameter</th>\n",
       "      <th>Extent</th>\n",
       "      <th>Solidity</th>\n",
       "      <th>roundness</th>\n",
       "      <th>Compactness</th>\n",
       "      <th>ShapeFactor1</th>\n",
       "      <th>ShapeFactor2</th>\n",
       "      <th>ShapeFactor3</th>\n",
       "      <th>ShapeFactor4</th>\n",
       "      <th>y</th>\n",
       "    </tr>\n",
       "  </thead>\n",
       "  <tbody>\n",
       "    <tr>\n",
       "      <th>0</th>\n",
       "      <td>10834</td>\n",
       "      <td>57659</td>\n",
       "      <td>955.434</td>\n",
       "      <td>387.757607</td>\n",
       "      <td>196.625782</td>\n",
       "      <td>1.972059</td>\n",
       "      <td>0.861896</td>\n",
       "      <td>60188</td>\n",
       "      <td>270.949661</td>\n",
       "      <td>0.620790</td>\n",
       "      <td>0.957982</td>\n",
       "      <td>0.793735</td>\n",
       "      <td>0.698760</td>\n",
       "      <td>0.006725</td>\n",
       "      <td>0.000989</td>\n",
       "      <td>0.488266</td>\n",
       "      <td>0.962889</td>\n",
       "      <td>HOROZ</td>\n",
       "    </tr>\n",
       "    <tr>\n",
       "      <th>1</th>\n",
       "      <td>10835</td>\n",
       "      <td>28772</td>\n",
       "      <td>630.362</td>\n",
       "      <td>229.990785</td>\n",
       "      <td>159.609367</td>\n",
       "      <td>1.440960</td>\n",
       "      <td>0.719993</td>\n",
       "      <td>29127</td>\n",
       "      <td>191.399185</td>\n",
       "      <td>0.767458</td>\n",
       "      <td>0.987812</td>\n",
       "      <td>0.909913</td>\n",
       "      <td>0.832204</td>\n",
       "      <td>0.007994</td>\n",
       "      <td>0.002365</td>\n",
       "      <td>0.692563</td>\n",
       "      <td>0.997956</td>\n",
       "      <td>DERMASON</td>\n",
       "    </tr>\n",
       "    <tr>\n",
       "      <th>2</th>\n",
       "      <td>10836</td>\n",
       "      <td>54677</td>\n",
       "      <td>911.022</td>\n",
       "      <td>308.853903</td>\n",
       "      <td>226.398571</td>\n",
       "      <td>1.364204</td>\n",
       "      <td>0.680198</td>\n",
       "      <td>55858</td>\n",
       "      <td>263.850182</td>\n",
       "      <td>0.753013</td>\n",
       "      <td>0.978857</td>\n",
       "      <td>0.827860</td>\n",
       "      <td>0.854288</td>\n",
       "      <td>0.005649</td>\n",
       "      <td>0.001856</td>\n",
       "      <td>0.729808</td>\n",
       "      <td>0.995607</td>\n",
       "      <td>BARBUNYA</td>\n",
       "    </tr>\n",
       "    <tr>\n",
       "      <th>3</th>\n",
       "      <td>10837</td>\n",
       "      <td>24827</td>\n",
       "      <td>578.304</td>\n",
       "      <td>214.192699</td>\n",
       "      <td>147.788172</td>\n",
       "      <td>1.449322</td>\n",
       "      <td>0.723831</td>\n",
       "      <td>25121</td>\n",
       "      <td>177.794033</td>\n",
       "      <td>0.716508</td>\n",
       "      <td>0.988297</td>\n",
       "      <td>0.932871</td>\n",
       "      <td>0.830066</td>\n",
       "      <td>0.008627</td>\n",
       "      <td>0.002526</td>\n",
       "      <td>0.689009</td>\n",
       "      <td>0.998596</td>\n",
       "      <td>DERMASON</td>\n",
       "    </tr>\n",
       "    <tr>\n",
       "      <th>4</th>\n",
       "      <td>10838</td>\n",
       "      <td>141850</td>\n",
       "      <td>1432.847</td>\n",
       "      <td>524.923471</td>\n",
       "      <td>346.910920</td>\n",
       "      <td>1.513136</td>\n",
       "      <td>0.750492</td>\n",
       "      <td>143680</td>\n",
       "      <td>424.981211</td>\n",
       "      <td>0.804617</td>\n",
       "      <td>0.987263</td>\n",
       "      <td>0.868240</td>\n",
       "      <td>0.809606</td>\n",
       "      <td>0.003701</td>\n",
       "      <td>0.000981</td>\n",
       "      <td>0.655462</td>\n",
       "      <td>0.991803</td>\n",
       "      <td>BOMBAY</td>\n",
       "    </tr>\n",
       "  </tbody>\n",
       "</table>\n",
       "</div>"
      ],
      "text/plain": [
       "      ID    Area  Perimeter  MajorAxisLength  MinorAxisLength  AspectRation  \\\n",
       "0  10834   57659    955.434       387.757607       196.625782      1.972059   \n",
       "1  10835   28772    630.362       229.990785       159.609367      1.440960   \n",
       "2  10836   54677    911.022       308.853903       226.398571      1.364204   \n",
       "3  10837   24827    578.304       214.192699       147.788172      1.449322   \n",
       "4  10838  141850   1432.847       524.923471       346.910920      1.513136   \n",
       "\n",
       "   Eccentricity  ConvexArea  EquivDiameter    Extent  Solidity  roundness  \\\n",
       "0      0.861896       60188     270.949661  0.620790  0.957982   0.793735   \n",
       "1      0.719993       29127     191.399185  0.767458  0.987812   0.909913   \n",
       "2      0.680198       55858     263.850182  0.753013  0.978857   0.827860   \n",
       "3      0.723831       25121     177.794033  0.716508  0.988297   0.932871   \n",
       "4      0.750492      143680     424.981211  0.804617  0.987263   0.868240   \n",
       "\n",
       "   Compactness  ShapeFactor1  ShapeFactor2  ShapeFactor3  ShapeFactor4  \\\n",
       "0     0.698760      0.006725      0.000989      0.488266      0.962889   \n",
       "1     0.832204      0.007994      0.002365      0.692563      0.997956   \n",
       "2     0.854288      0.005649      0.001856      0.729808      0.995607   \n",
       "3     0.830066      0.008627      0.002526      0.689009      0.998596   \n",
       "4     0.809606      0.003701      0.000981      0.655462      0.991803   \n",
       "\n",
       "          y  \n",
       "0     HOROZ  \n",
       "1  DERMASON  \n",
       "2  BARBUNYA  \n",
       "3  DERMASON  \n",
       "4    BOMBAY  "
      ]
     },
     "execution_count": 24,
     "metadata": {},
     "output_type": "execute_result"
    }
   ],
   "source": [
    "y_test_predicted = ada.predict(X_test)\n",
    "\n",
    "y_test_predicted = le.inverse_transform(y_test_predicted)\n",
    "\n",
    "test_data['y'] = y_test_predicted\n",
    "\n",
    "test_data.head()"
   ]
  },
  {
   "cell_type": "code",
   "execution_count": 25,
   "id": "f719864c",
   "metadata": {
    "execution": {
     "iopub.execute_input": "2021-09-15T19:08:39.102537Z",
     "iopub.status.busy": "2021-09-15T19:08:39.101867Z",
     "iopub.status.idle": "2021-09-15T19:08:39.112406Z",
     "shell.execute_reply": "2021-09-15T19:08:39.112893Z",
     "shell.execute_reply.started": "2021-09-15T19:05:47.024506Z"
    },
    "papermill": {
     "duration": 0.047584,
     "end_time": "2021-09-15T19:08:39.113059",
     "exception": false,
     "start_time": "2021-09-15T19:08:39.065475",
     "status": "completed"
    },
    "tags": []
   },
   "outputs": [],
   "source": [
    "test_data[['ID', 'y']].to_csv('submission.csv', index=False)"
   ]
  }
 ],
 "metadata": {
  "kernelspec": {
   "display_name": "Python 3",
   "language": "python",
   "name": "python3"
  },
  "language_info": {
   "codemirror_mode": {
    "name": "ipython",
    "version": 3
   },
   "file_extension": ".py",
   "mimetype": "text/x-python",
   "name": "python",
   "nbconvert_exporter": "python",
   "pygments_lexer": "ipython3",
   "version": "3.7.10"
  },
  "papermill": {
   "default_parameters": {},
   "duration": 154.803915,
   "end_time": "2021-09-15T19:08:40.348422",
   "environment_variables": {},
   "exception": null,
   "input_path": "__notebook__.ipynb",
   "output_path": "__notebook__.ipynb",
   "parameters": {},
   "start_time": "2021-09-15T19:06:05.544507",
   "version": "2.3.3"
  }
 },
 "nbformat": 4,
 "nbformat_minor": 5
}
