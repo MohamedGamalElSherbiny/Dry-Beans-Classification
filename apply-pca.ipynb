{
 "cells": [
  {
   "cell_type": "code",
   "execution_count": 1,
   "id": "a30ce579",
   "metadata": {
    "_cell_guid": "b1076dfc-b9ad-4769-8c92-a6c4dae69d19",
    "_uuid": "8f2839f25d086af736a60e9eeb907d3b93b6e0e5",
    "execution": {
     "iopub.execute_input": "2021-09-12T20:17:19.668414Z",
     "iopub.status.busy": "2021-09-12T20:17:19.667723Z",
     "iopub.status.idle": "2021-09-12T20:17:19.674542Z",
     "shell.execute_reply": "2021-09-12T20:17:19.675021Z",
     "shell.execute_reply.started": "2021-09-12T20:13:44.543073Z"
    },
    "papermill": {
     "duration": 0.024862,
     "end_time": "2021-09-12T20:17:19.675338",
     "exception": false,
     "start_time": "2021-09-12T20:17:19.650476",
     "status": "completed"
    },
    "tags": []
   },
   "outputs": [
    {
     "name": "stdout",
     "output_type": "stream",
     "text": [
      "/kaggle/input/dry-beans-classification-iti-ai-pro-intake01/sample_submission.csv\n",
      "/kaggle/input/dry-beans-classification-iti-ai-pro-intake01/train.csv\n",
      "/kaggle/input/dry-beans-classification-iti-ai-pro-intake01/test.csv\n"
     ]
    }
   ],
   "source": [
    "import numpy as np\n",
    "import pandas as pd\n",
    "import os\n",
    "for dirname, _, filenames in os.walk('/kaggle/input'):\n",
    "    for filename in filenames:\n",
    "        print(os.path.join(dirname, filename))"
   ]
  },
  {
   "cell_type": "code",
   "execution_count": 2,
   "id": "3c9b578f",
   "metadata": {
    "execution": {
     "iopub.execute_input": "2021-09-12T20:17:19.690598Z",
     "iopub.status.busy": "2021-09-12T20:17:19.689854Z",
     "iopub.status.idle": "2021-09-12T20:17:19.815113Z",
     "shell.execute_reply": "2021-09-12T20:17:19.814404Z",
     "shell.execute_reply.started": "2021-09-12T20:14:11.432363Z"
    },
    "papermill": {
     "duration": 0.134794,
     "end_time": "2021-09-12T20:17:19.815264",
     "exception": false,
     "start_time": "2021-09-12T20:17:19.680470",
     "status": "completed"
    },
    "tags": []
   },
   "outputs": [],
   "source": [
    "df = pd.read_csv('/kaggle/input/dry-beans-classification-iti-ai-pro-intake01/train.csv')"
   ]
  },
  {
   "cell_type": "code",
   "execution_count": 3,
   "id": "430b8c0b",
   "metadata": {
    "execution": {
     "iopub.execute_input": "2021-09-12T20:17:19.828042Z",
     "iopub.status.busy": "2021-09-12T20:17:19.827010Z",
     "iopub.status.idle": "2021-09-12T20:17:21.246710Z",
     "shell.execute_reply": "2021-09-12T20:17:21.247204Z",
     "shell.execute_reply.started": "2021-09-12T20:15:44.355326Z"
    },
    "papermill": {
     "duration": 1.427682,
     "end_time": "2021-09-12T20:17:21.247370",
     "exception": false,
     "start_time": "2021-09-12T20:17:19.819688",
     "status": "completed"
    },
    "tags": []
   },
   "outputs": [
    {
     "data": {
      "image/png": "[encoded data removed]",
      "text/plain": [
       "<Figure size 432x288 with 1 Axes>"
      ]
     },
     "metadata": {
      "needs_background": "light"
     },
     "output_type": "display_data"
    }
   ],
   "source": [
    "from sklearn.decomposition import PCA\n",
    "from sklearn.preprocessing import StandardScaler\n",
    "from sklearn.pipeline import make_pipeline\n",
    "import matplotlib.pyplot as plt\n",
    "\n",
    "# Create scaler: scaler\n",
    "scaler = StandardScaler()\n",
    "\n",
    "# Create a PCA instance: pca\n",
    "pca = PCA()\n",
    "\n",
    "# Create pipeline: pipeline\n",
    "pipeline = make_pipeline(scaler, pca)\n",
    "\n",
    "# Fit the pipeline to 'samples'\n",
    "pipeline.fit(df.drop(columns=['ID', 'y']))\n",
    "\n",
    "# Plot the explained variances\n",
    "features = range(pca.n_components_)\n",
    "plt.bar(features, pca.explained_variance_)\n",
    "plt.xlabel('PCA feature')\n",
    "plt.ylabel('variance')\n",
    "plt.xticks(features)\n",
    "plt.show()"
   ]
  }
 ],
 "metadata": {
  "kernelspec": {
   "display_name": "Python 3",
   "language": "python",
   "name": "python3"
  },
  "language_info": {
   "codemirror_mode": {
    "name": "ipython",
    "version": 3
   },
   "file_extension": ".py",
   "mimetype": "text/x-python",
   "name": "python",
   "nbconvert_exporter": "python",
   "pygments_lexer": "ipython3",
   "version": "3.7.10"
  },
  "papermill": {
   "default_parameters": {},
   "duration": 10.69539,
   "end_time": "2021-09-12T20:17:21.861221",
   "environment_variables": {},
   "exception": null,
   "input_path": "__notebook__.ipynb",
   "output_path": "__notebook__.ipynb",
   "parameters": {},
   "start_time": "2021-09-12T20:17:11.165831",
   "version": "2.3.3"
  }
 },
 "nbformat": 4,
 "nbformat_minor": 5
}
