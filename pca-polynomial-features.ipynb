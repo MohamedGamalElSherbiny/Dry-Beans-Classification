{
 "cells": [
  {
   "cell_type": "code",
   "execution_count": 1,
   "id": "cb3096f5",
   "metadata": {
    "_cell_guid": "b1076dfc-b9ad-4769-8c92-a6c4dae69d19",
    "_uuid": "8f2839f25d086af736a60e9eeb907d3b93b6e0e5",
    "execution": {
     "iopub.execute_input": "2021-09-25T11:47:16.160970Z",
     "iopub.status.busy": "2021-09-25T11:47:16.160158Z",
     "iopub.status.idle": "2021-09-25T11:47:16.166982Z",
     "shell.execute_reply": "2021-09-25T11:47:16.167486Z",
     "shell.execute_reply.started": "2021-09-25T11:33:48.654595Z"
    },
    "papermill": {
     "duration": 0.032849,
     "end_time": "2021-09-25T11:47:16.167868",
     "exception": false,
     "start_time": "2021-09-25T11:47:16.135019",
     "status": "completed"
    },
    "tags": []
   },
   "outputs": [
    {
     "name": "stdout",
     "output_type": "stream",
     "text": [
      "/kaggle/input/dry-beans-classification-iti-ai-pro-intake01/sample_submission.csv\n",
      "/kaggle/input/dry-beans-classification-iti-ai-pro-intake01/train.csv\n",
      "/kaggle/input/dry-beans-classification-iti-ai-pro-intake01/test.csv\n"
     ]
    }
   ],
   "source": [
    "import numpy as np\n",
    "import pandas as pd\n",
    "import os\n",
    "for dirname, _, filenames in os.walk('/kaggle/input'):\n",
    "    for filename in filenames:\n",
    "        print(os.path.join(dirname, filename))"
   ]
  },
  {
   "cell_type": "code",
   "execution_count": 2,
   "id": "3c17b88d",
   "metadata": {
    "execution": {
     "iopub.execute_input": "2021-09-25T11:47:16.197871Z",
     "iopub.status.busy": "2021-09-25T11:47:16.196771Z",
     "iopub.status.idle": "2021-09-25T11:47:16.300006Z",
     "shell.execute_reply": "2021-09-25T11:47:16.299300Z",
     "shell.execute_reply.started": "2021-09-25T11:34:01.024277Z"
    },
    "papermill": {
     "duration": 0.119895,
     "end_time": "2021-09-25T11:47:16.300188",
     "exception": false,
     "start_time": "2021-09-25T11:47:16.180293",
     "status": "completed"
    },
    "tags": []
   },
   "outputs": [],
   "source": [
    "train_df = pd.read_csv('/kaggle/input/dry-beans-classification-iti-ai-pro-intake01/train.csv')"
   ]
  },
  {
   "cell_type": "code",
   "execution_count": 3,
   "id": "c8fd92a1",
   "metadata": {
    "execution": {
     "iopub.execute_input": "2021-09-25T11:47:16.332641Z",
     "iopub.status.busy": "2021-09-25T11:47:16.331709Z",
     "iopub.status.idle": "2021-09-25T11:47:16.335413Z",
     "shell.execute_reply": "2021-09-25T11:47:16.335927Z",
     "shell.execute_reply.started": "2021-09-25T11:34:31.824813Z"
    },
    "papermill": {
     "duration": 0.024067,
     "end_time": "2021-09-25T11:47:16.336124",
     "exception": false,
     "start_time": "2021-09-25T11:47:16.312057",
     "status": "completed"
    },
    "tags": []
   },
   "outputs": [
    {
     "data": {
      "text/plain": [
       "Index(['ID', 'Area', 'Perimeter', 'MajorAxisLength', 'MinorAxisLength',\n",
       "       'AspectRation', 'Eccentricity', 'ConvexArea', 'EquivDiameter', 'Extent',\n",
       "       'Solidity', 'roundness', 'Compactness', 'ShapeFactor1', 'ShapeFactor2',\n",
       "       'ShapeFactor3', 'ShapeFactor4', 'y'],\n",
       "      dtype='object')"
      ]
     },
     "execution_count": 3,
     "metadata": {},
     "output_type": "execute_result"
    }
   ],
   "source": [
    "train_df.columns"
   ]
  },
  {
   "cell_type": "code",
   "execution_count": 4,
   "id": "c175bf13",
   "metadata": {
    "execution": {
     "iopub.execute_input": "2021-09-25T11:47:16.376457Z",
     "iopub.status.busy": "2021-09-25T11:47:16.369857Z",
     "iopub.status.idle": "2021-09-25T11:47:16.379377Z",
     "shell.execute_reply": "2021-09-25T11:47:16.378734Z",
     "shell.execute_reply.started": "2021-09-25T11:44:31.910797Z"
    },
    "papermill": {
     "duration": 0.031555,
     "end_time": "2021-09-25T11:47:16.379542",
     "exception": false,
     "start_time": "2021-09-25T11:47:16.347987",
     "status": "completed"
    },
    "tags": []
   },
   "outputs": [],
   "source": [
    "X = train_df.drop(columns=['ID', 'y'])\n",
    "y = train_df.y"
   ]
  },
  {
   "cell_type": "code",
   "execution_count": 5,
   "id": "ef2feba1",
   "metadata": {
    "execution": {
     "iopub.execute_input": "2021-09-25T11:47:16.409818Z",
     "iopub.status.busy": "2021-09-25T11:47:16.408694Z",
     "iopub.status.idle": "2021-09-25T11:47:16.410642Z",
     "shell.execute_reply": "2021-09-25T11:47:16.411183Z",
     "shell.execute_reply.started": "2021-09-25T11:44:35.418128Z"
    },
    "papermill": {
     "duration": 0.019879,
     "end_time": "2021-09-25T11:47:16.411384",
     "exception": false,
     "start_time": "2021-09-25T11:47:16.391505",
     "status": "completed"
    },
    "tags": []
   },
   "outputs": [],
   "source": [
    "# import sklearn.feature_selection\n",
    "\n",
    "# select = sklearn.feature_selection.SelectKBest(k=8)\n",
    "# selected_features = select.fit(X, y)\n",
    "# indices_selected = selected_features.get_support(indices=True)\n",
    "# colnames_selected = [X.columns[i] for i in indices_selected]\n",
    "\n",
    "# X = X[colnames_selected]\n",
    "# print(colnames_selected)"
   ]
  },
  {
   "cell_type": "code",
   "execution_count": 6,
   "id": "b06ea7dd",
   "metadata": {
    "execution": {
     "iopub.execute_input": "2021-09-25T11:47:16.439862Z",
     "iopub.status.busy": "2021-09-25T11:47:16.438816Z",
     "iopub.status.idle": "2021-09-25T11:47:17.459221Z",
     "shell.execute_reply": "2021-09-25T11:47:17.458586Z",
     "shell.execute_reply.started": "2021-09-25T11:44:35.880238Z"
    },
    "papermill": {
     "duration": 1.036104,
     "end_time": "2021-09-25T11:47:17.459422",
     "exception": false,
     "start_time": "2021-09-25T11:47:16.423318",
     "status": "completed"
    },
    "tags": []
   },
   "outputs": [],
   "source": [
    "from itertools import combinations\n",
    "from sklearn.preprocessing import PolynomialFeatures\n",
    "poly = PolynomialFeatures(interaction_only=True, include_bias=False)\n",
    "poly_scaler = poly.fit(X)\n",
    "\n",
    "def add_interactions(df):\n",
    "    combos = list(combinations(list(df.columns), 2))\n",
    "    colnames = list(df.columns) + ['_'.join(x) for x in combos]\n",
    "    print(len(colnames))\n",
    "    \n",
    "    # Find interactions\n",
    "    df = poly.transform(df)\n",
    "    df = pd.DataFrame(df)\n",
    "    df.columns = colnames\n",
    "    return df"
   ]
  },
  {
   "cell_type": "code",
   "execution_count": 7,
   "id": "06ea758f",
   "metadata": {
    "execution": {
     "iopub.execute_input": "2021-09-25T11:47:17.491714Z",
     "iopub.status.busy": "2021-09-25T11:47:17.490932Z",
     "iopub.status.idle": "2021-09-25T11:47:17.524862Z",
     "shell.execute_reply": "2021-09-25T11:47:17.525412Z",
     "shell.execute_reply.started": "2021-09-25T11:44:36.532207Z"
    },
    "papermill": {
     "duration": 0.054215,
     "end_time": "2021-09-25T11:47:17.525618",
     "exception": false,
     "start_time": "2021-09-25T11:47:17.471403",
     "status": "completed"
    },
    "tags": []
   },
   "outputs": [
    {
     "name": "stdout",
     "output_type": "stream",
     "text": [
      "136\n"
     ]
    }
   ],
   "source": [
    "poly_train_df = add_interactions(X)\n",
    "noint_indices = [i for i, x in enumerate(list((poly_train_df == 0).all())) if x]\n",
    "poly_train_df = poly_train_df.drop(poly_train_df.columns[noint_indices], axis=1)"
   ]
  },
  {
   "cell_type": "code",
   "execution_count": 8,
   "id": "a185a2d9",
   "metadata": {
    "execution": {
     "iopub.execute_input": "2021-09-25T11:47:17.556054Z",
     "iopub.status.busy": "2021-09-25T11:47:17.555278Z",
     "iopub.status.idle": "2021-09-25T11:47:17.558292Z",
     "shell.execute_reply": "2021-09-25T11:47:17.558794Z",
     "shell.execute_reply.started": "2021-09-25T11:44:37.664530Z"
    },
    "papermill": {
     "duration": 0.021349,
     "end_time": "2021-09-25T11:47:17.559012",
     "exception": false,
     "start_time": "2021-09-25T11:47:17.537663",
     "status": "completed"
    },
    "tags": []
   },
   "outputs": [
    {
     "data": {
      "text/plain": [
       "(10834, 136)"
      ]
     },
     "execution_count": 8,
     "metadata": {},
     "output_type": "execute_result"
    }
   ],
   "source": [
    "poly_train_df.shape"
   ]
  },
  {
   "cell_type": "code",
   "execution_count": 9,
   "id": "29f5b605",
   "metadata": {
    "execution": {
     "iopub.execute_input": "2021-09-25T11:47:17.590268Z",
     "iopub.status.busy": "2021-09-25T11:47:17.587420Z",
     "iopub.status.idle": "2021-09-25T11:47:17.594454Z",
     "shell.execute_reply": "2021-09-25T11:47:17.593951Z",
     "shell.execute_reply.started": "2021-09-25T11:44:38.565010Z"
    },
    "papermill": {
     "duration": 0.023094,
     "end_time": "2021-09-25T11:47:17.594619",
     "exception": false,
     "start_time": "2021-09-25T11:47:17.571525",
     "status": "completed"
    },
    "tags": []
   },
   "outputs": [
    {
     "data": {
      "text/plain": [
       "(10834, 16)"
      ]
     },
     "execution_count": 9,
     "metadata": {},
     "output_type": "execute_result"
    }
   ],
   "source": [
    "X.shape"
   ]
  },
  {
   "cell_type": "code",
   "execution_count": 10,
   "id": "6dbbae8e",
   "metadata": {
    "execution": {
     "iopub.execute_input": "2021-09-25T11:47:17.626270Z",
     "iopub.status.busy": "2021-09-25T11:47:17.625500Z",
     "iopub.status.idle": "2021-09-25T11:47:18.004569Z",
     "shell.execute_reply": "2021-09-25T11:47:18.005484Z",
     "shell.execute_reply.started": "2021-09-25T11:45:47.121436Z"
    },
    "papermill": {
     "duration": 0.398688,
     "end_time": "2021-09-25T11:47:18.005769",
     "exception": false,
     "start_time": "2021-09-25T11:47:17.607081",
     "status": "completed"
    },
    "tags": []
   },
   "outputs": [
    {
     "data": {
      "text/plain": [
       "Pipeline(steps=[('standardscaler', StandardScaler()), ('pca', PCA())])"
      ]
     },
     "execution_count": 10,
     "metadata": {},
     "output_type": "execute_result"
    }
   ],
   "source": [
    "from sklearn.decomposition import PCA\n",
    "from sklearn.preprocessing import StandardScaler\n",
    "from sklearn.pipeline import make_pipeline\n",
    "import matplotlib.pyplot as plt\n",
    "\n",
    "# Create scaler: scaler\n",
    "scaler = StandardScaler()\n",
    "\n",
    "# Create a PCA instance: pca\n",
    "pca = PCA()\n",
    "\n",
    "# Create pipeline: pipeline\n",
    "pipeline = make_pipeline(scaler, pca)\n",
    "\n",
    "# Fit the pipeline to 'samples'\n",
    "pipeline.fit(poly_train_df)"
   ]
  },
  {
   "cell_type": "code",
   "execution_count": 11,
   "id": "5673be3b",
   "metadata": {
    "execution": {
     "iopub.execute_input": "2021-09-25T11:47:18.064070Z",
     "iopub.status.busy": "2021-09-25T11:47:18.063016Z",
     "iopub.status.idle": "2021-09-25T11:47:19.819819Z",
     "shell.execute_reply": "2021-09-25T11:47:19.820398Z",
     "shell.execute_reply.started": "2021-09-25T11:45:58.275585Z"
    },
    "papermill": {
     "duration": 1.79135,
     "end_time": "2021-09-25T11:47:19.820611",
     "exception": false,
     "start_time": "2021-09-25T11:47:18.029261",
     "status": "completed"
    },
    "tags": []
   },
   "outputs": [
    {
     "data": {
      "image/png": "[encoded data removed]",
      "text/plain": [
       "<Figure size 1440x720 with 1 Axes>"
      ]
     },
     "metadata": {
      "needs_background": "light"
     },
     "output_type": "display_data"
    }
   ],
   "source": [
    "features = range(pca.n_components_)\n",
    "fig = plt.figure(figsize=(20,10))\n",
    "plt.bar(features, pca.explained_variance_)\n",
    "plt.xlabel('PCA feature')\n",
    "plt.ylabel('variance')\n",
    "plt.xticks(features)\n",
    "plt.show()"
   ]
  },
  {
   "cell_type": "code",
   "execution_count": null,
   "id": "69b81a99",
   "metadata": {
    "papermill": {
     "duration": 0.013759,
     "end_time": "2021-09-25T11:47:19.849158",
     "exception": false,
     "start_time": "2021-09-25T11:47:19.835399",
     "status": "completed"
    },
    "tags": []
   },
   "outputs": [],
   "source": []
  }
 ],
 "metadata": {
  "kernelspec": {
   "display_name": "Python 3",
   "language": "python",
   "name": "python3"
  },
  "language_info": {
   "codemirror_mode": {
    "name": "ipython",
    "version": 3
   },
   "file_extension": ".py",
   "mimetype": "text/x-python",
   "name": "python",
   "nbconvert_exporter": "python",
   "pygments_lexer": "ipython3",
   "version": "3.7.10"
  },
  "papermill": {
   "default_parameters": {},
   "duration": 14.985112,
   "end_time": "2021-09-25T11:47:21.626232",
   "environment_variables": {},
   "exception": null,
   "input_path": "__notebook__.ipynb",
   "output_path": "__notebook__.ipynb",
   "parameters": {},
   "start_time": "2021-09-25T11:47:06.641120",
   "version": "2.3.3"
  }
 },
 "nbformat": 4,
 "nbformat_minor": 5
}
